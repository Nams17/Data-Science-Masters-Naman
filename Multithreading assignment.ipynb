{
 "cells": [
  {
   "cell_type": "markdown",
   "id": "86d8852f-ef89-4c4d-a4ee-0b90930f70d0",
   "metadata": {},
   "source": [
    "# Q-1"
   ]
  },
  {
   "cell_type": "markdown",
   "id": "a6cb1229-17e8-491b-9afe-d1049a465bf9",
   "metadata": {},
   "source": [
    "### Multithreading in Python refers to the capability of running multiple threads (smaller units of a program) concurrently within a single program. Each thread runs independently and performs a specific task while sharing the same memory space.\n",
    "### The primary benefit of using multithreading is that it can improve the overall performance and responsiveness of a program by utilizing the available resources efficiently. For example, if a program has a long-running task that blocks the main thread, we can move that task to a separate thread, allowing the main thread to handle other tasks or respond to user input.\n",
    "### The threading module is used to handle threads in Python."
   ]
  },
  {
   "cell_type": "markdown",
   "id": "4d0846bd-0c5e-4fd1-b4d9-65393bb4e42b",
   "metadata": {},
   "source": [
    "# Q-2"
   ]
  },
  {
   "cell_type": "markdown",
   "id": "ed0820f5-d58a-437a-8e9b-069b2c589c2d",
   "metadata": {},
   "source": [
    "### Threading module is used because it provides a high-level interface for creating and managing threads and includes features such as synchronization primitives (locks, semaphores, events, etc.) and thread-local data."
   ]
  },
  {
   "cell_type": "markdown",
   "id": "cb99726d-037b-4104-a8fa-ff5cb2f635d9",
   "metadata": {},
   "source": [
    "### 1. activeCount() is a function in the threading module of Python that returns the number of active threads in the current thread's thread control block.\n",
    "### 2. currentThread() is a function in the threading module of Python that returns a Thread object that represents the current thread of control.\n",
    "### 3. enumerate() is a built-in Python function that returns an iterator that generates a sequence of tuples. Each tuple contains a count (starting from zero by default) and an element from the given iterable object."
   ]
  },
  {
   "cell_type": "markdown",
   "id": "dae01244-82d8-4d42-972e-4f195cd59f1b",
   "metadata": {},
   "source": [
    "# Q-3"
   ]
  },
  {
   "cell_type": "markdown",
   "id": "14613f96-2bfa-4547-a8ed-3264e4b3f79f",
   "metadata": {},
   "source": [
    "### 1. In Python, the run() function is a method that is defined in the Thread class of the threading module. It is used to start a new thread of execution by calling the run() method of the thread object.The run() method is called automatically when we create a new thread object and start it using the start() method.\n",
    "### 2. In Python, the start() function is a method that is defined in the Thread class of the threading module. It is used to start a new thread of execution by calling the run() method of the thread object in a separate thread.\n",
    "### 3. In Python, the join() function is a method that is defined in the Thread class of the threading module. It is used to block the calling thread of execution until the thread on which it is called completes its execution.\n",
    "### 4. In Python, the isAlive() function is a method that is defined in the Thread class of the threading module. It is used to determine whether a thread is currently executing or has completed its execution."
   ]
  },
  {
   "cell_type": "markdown",
   "id": "9763d0a2-7126-4d0b-870e-fa57a921c719",
   "metadata": {},
   "source": [
    "# Q-4"
   ]
  },
  {
   "cell_type": "code",
   "execution_count": 2,
   "id": "02b84ed8-d481-4a05-9093-aab713ba3733",
   "metadata": {},
   "outputs": [
    {
     "name": "stdout",
     "output_type": "stream",
     "text": [
      "List of squares:  [0, 1, 4, 9, 16, 25, 36, 49, 64, 81]\n",
      "List of cubes:  [0, 1, 8, 27, 64, 125, 216, 343, 512, 729]\n",
      "Main thread finished\n"
     ]
    }
   ],
   "source": [
    "import threading\n",
    "\n",
    "def print_squares():\n",
    "    squares = [x*x for x in range(10)]\n",
    "    print(\"List of squares: \",squares)\n",
    "    \n",
    "def print_cubes():\n",
    "    cubes = [x*x*x for x in range(10)]\n",
    "    print(\"List of cubes: \", cubes)\n",
    "    \n",
    "#thread1\n",
    "t1 = threading.Thread(target = print_squares)\n",
    "#thread2\n",
    "t2 = threading.Thread(target = print_cubes)\n",
    "\n",
    "t1.start()\n",
    "t2.start()\n",
    "\n",
    "t1.join()\n",
    "t2.join()\n",
    "\n",
    "print(\"Main thread finished\")"
   ]
  },
  {
   "cell_type": "markdown",
   "id": "81e86985-6e30-4bbd-933f-5ca37da90cfd",
   "metadata": {},
   "source": [
    "# Q-5"
   ]
  },
  {
   "cell_type": "markdown",
   "id": "82ab3171-6af4-482a-87fa-aeb323c7d472",
   "metadata": {},
   "source": [
    "### Advantages of multithreading:\n",
    "\n",
    "### 1.Increased performance: Multithreading allows for better CPU utilization by running multiple threads simultaneously. This can lead to significant performance improvements in applications that are CPU-bound.\n",
    "\n",
    "### 2.Responsiveness: By allowing multiple threads to run simultaneously, multithreading can improve the responsiveness of an application. This is particularly useful in applications that have a user interface, where the UI thread can remain responsive while other threads perform background tasks.\n",
    "\n",
    "### 3.Improved resource utilization: Multithreading can help to better utilize resources such as memory, disk I/O, and network bandwidth. For example, one thread could be used to read data from a file while another thread processes that data.\n",
    "\n",
    "### 4.Modularization: Multithreading can help to modularize code by breaking it up into smaller, more manageable pieces that can be executed in parallel.\n",
    "\n",
    "### Disadvantages of multithreading:\n",
    "\n",
    "### 1.Complexity: Multithreaded programs are generally more complex than single-threaded programs. This can make them harder to develop, debug, and maintain.\n",
    "\n",
    "### 2.Synchronization: When multiple threads access shared resources, synchronization must be used to avoid race conditions and other synchronization issues. This can be difficult to implement correctly and can lead to subtle bugs.\n",
    "\n",
    "### 3.Overhead: Creating and managing threads incurs overhead in terms of CPU time and memory usage. This overhead can be significant in some cases, particularly when creating many threads.\n",
    "\n",
    "### 4.Deadlocks: Multithreaded programs can be prone to deadlocks, where two or more threads are waiting for each other to release resources. Deadlocks can be difficult to debug and can cause the program to hang or crash."
   ]
  },
  {
   "cell_type": "markdown",
   "id": "8f5de556-34b0-4c7e-af3f-9ba35ee47f9f",
   "metadata": {},
   "source": [
    "# Q-6"
   ]
  },
  {
   "cell_type": "markdown",
   "id": "7a79d486-efd4-4804-8e13-e19e9709454c",
   "metadata": {},
   "source": [
    "### Deadlock: Deadlock is a situation where two or more threads are blocked forever, waiting for each other to release resources that they hold. This can happen when threads acquire resources in a specific order, and one thread tries to acquire a resource that another thread is holding, while the second thread is waiting for the resource that the first thread is holding. As a result, both threads are blocked, and the program is stuck.\n",
    "### Race condition: "
   ]
  }
 ],
 "metadata": {
  "kernelspec": {
   "display_name": "Python 3 (ipykernel)",
   "language": "python",
   "name": "python3"
  },
  "language_info": {
   "codemirror_mode": {
    "name": "ipython",
    "version": 3
   },
   "file_extension": ".py",
   "mimetype": "text/x-python",
   "name": "python",
   "nbconvert_exporter": "python",
   "pygments_lexer": "ipython3",
   "version": "3.10.8"
  }
 },
 "nbformat": 4,
 "nbformat_minor": 5
}
