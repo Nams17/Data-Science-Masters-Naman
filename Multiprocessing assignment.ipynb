{
 "cells": [
  {
   "cell_type": "markdown",
   "id": "00e4c08c-a869-4c35-b5e4-67bac5a44426",
   "metadata": {},
   "source": [
    "# Q-1"
   ]
  },
  {
   "cell_type": "markdown",
   "id": "9c52f243-c2f3-43ee-b1d0-0bbee5ee8de0",
   "metadata": {},
   "source": [
    "### Multiprocessing in Python is a technique where multiple processes are created to perform tasks simultaneously, utilizing multiple CPU cores on a computer. Each process runs independently of other processes and can communicate with them using inter-process communication (IPC) mechanisms such as pipes, queues, or shared memory.\n",
    "\n",
    "### Multiprocessing is useful in situations where a program needs to perform tasks that can be parallelized, such as image processing, scientific computing, or web scraping. By utilizing multiple processes, the program can take advantage of multiple CPU cores, which can significantly improve performance and reduce processing time."
   ]
  },
  {
   "cell_type": "markdown",
   "id": "7d741cdb-9b56-48ee-9243-ce4c3b4f70dd",
   "metadata": {},
   "source": [
    "# Q-2"
   ]
  },
  {
   "cell_type": "markdown",
   "id": "abadcdb6-2ed7-4c1c-8e6e-a4a7a118dd72",
   "metadata": {},
   "source": [
    "### 1.Processes vs Threads:\n",
    "### In multiprocessing, multiple processes are created to perform tasks simultaneously, while in multithreading, multiple threads are created within a single process to perform tasks concurrently.\n",
    "\n",
    "### 2.Memory:\n",
    "### Each process has its own separate memory space, while threads share the same memory space within a process.\n",
    "\n",
    "### 3.CPU utilization:\n",
    "### Multiprocessing can utilize multiple CPU cores, while multithreading can only utilize a single CPU core.\n",
    "\n",
    "### 4.Communication:\n",
    "### Processes communicate using inter-process communication mechanisms like pipes, queues, or shared memory, while threads can communicate using shared variables within the same memory space.\n",
    "\n",
    "### 5.Overhead:\n",
    "### Creating and managing multiple processes has a higher overhead compared to creating and managing multiple threads.\n",
    "\n",
    "### 6.Fault tolerance:\n",
    "### A crash in one process does not affect other processes, while a crash in one thread can cause the entire process to crash."
   ]
  },
  {
   "cell_type": "markdown",
   "id": "922f3192-3503-4638-945d-68ebea162551",
   "metadata": {},
   "source": [
    "# Q-3"
   ]
  },
  {
   "cell_type": "code",
   "execution_count": 1,
   "id": "0c98c04c-da8d-46a2-8b2d-2260b3a6eabd",
   "metadata": {},
   "outputs": [
    {
     "name": "stdout",
     "output_type": "stream",
     "text": [
      "1\n",
      "2\n",
      "3\n",
      "4\n",
      "5\n",
      "6\n",
      "7\n",
      "8\n",
      "9\n",
      "10\n",
      "Process completed\n"
     ]
    }
   ],
   "source": [
    "import multiprocessing\n",
    "\n",
    "def print_numbers(n):\n",
    "    for i in range(1, n+1):\n",
    "        print(i)\n",
    "\n",
    "if __name__ == '__main__':\n",
    "    # Create a new process\n",
    "    p = multiprocessing.Process(target=print_numbers, args=(10,))\n",
    "    \n",
    "    # Start the process\n",
    "    p.start()\n",
    "    \n",
    "    # Wait for the process to complete\n",
    "    p.join()\n",
    "\n",
    "    print(\"Process completed\")\n"
   ]
  },
  {
   "cell_type": "markdown",
   "id": "b3505000-b38e-4456-a390-51a72d75261d",
   "metadata": {},
   "source": [
    "# Q-4"
   ]
  },
  {
   "cell_type": "markdown",
   "id": "e82a46fa-36a1-4bd1-b07a-d9005f403cc5",
   "metadata": {},
   "source": [
    "### A multiprocessing pool in Python is a mechanism that allows for parallel processing of tasks using multiple processes. A pool is essentially a group of worker processes that are created to handle a set of tasks concurrently.\n",
    "### Using a pool of worker processes can provide significant performance improvements in situations where tasks are independent and can be executed concurrently. It can also help to maximize CPU utilization by distributing tasks across multiple cores."
   ]
  },
  {
   "cell_type": "markdown",
   "id": "575b21f9-d785-4688-b280-1956a3aba517",
   "metadata": {},
   "source": [
    "# Q-5"
   ]
  },
  {
   "cell_type": "markdown",
   "id": "8bcfcac2-0678-43f1-9284-714581ea9488",
   "metadata": {},
   "source": [
    "### To create a pool of worker processes in Python using the multiprocessing module, you can use the Pool class provided by the module."
   ]
  },
  {
   "cell_type": "code",
   "execution_count": 2,
   "id": "8d17932f-4f42-49d5-9ecb-273c69157694",
   "metadata": {},
   "outputs": [
    {
     "name": "stdout",
     "output_type": "stream",
     "text": [
      "[1, 4, 9, 16, 25]\n"
     ]
    }
   ],
   "source": [
    "import multiprocessing\n",
    "\n",
    "def square(x):\n",
    "    return x ** 2\n",
    "\n",
    "if __name__ == '__main__':\n",
    "    \n",
    "    pool = multiprocessing.Pool(processes=4)\n",
    "    \n",
    "   \n",
    "    result = pool.map(square, [1, 2, 3, 4, 5])\n",
    "    \n",
    "    \n",
    "    print(result)\n",
    "    \n",
    "    \n",
    "    pool.close()\n"
   ]
  },
  {
   "cell_type": "markdown",
   "id": "d84edb14-bed8-4761-9fb8-a7ff233e499c",
   "metadata": {},
   "source": [
    "# Q-6"
   ]
  },
  {
   "cell_type": "code",
   "execution_count": 3,
   "id": "b80f779d-fb33-4e5c-8a35-6308d530d75d",
   "metadata": {},
   "outputs": [
    {
     "name": "stdout",
     "output_type": "stream",
     "text": [
      "Number: 1\n",
      "Number: 2\n",
      "Number: 3\n",
      "Number: 4\n"
     ]
    }
   ],
   "source": [
    "import multiprocessing\n",
    "\n",
    "def print_number(num):\n",
    "    print(f\"Number: {num}\")\n",
    "\n",
    "if __name__ == '__main__':\n",
    "    # Create a list of numbers\n",
    "    numbers = [1, 2, 3, 4]\n",
    "    \n",
    "    # Create a process for each number\n",
    "    processes = []\n",
    "    for num in numbers:\n",
    "        process = multiprocessing.Process(target=print_number, args=(num,))\n",
    "        processes.append(process)\n",
    "        \n",
    "    # Start each process\n",
    "    for process in processes:\n",
    "        process.start()\n",
    "        \n",
    "    # Wait for each process to finish\n",
    "    for process in processes:\n",
    "        process.join()\n"
   ]
  },
  {
   "cell_type": "code",
   "execution_count": null,
   "id": "0beb3ae3-259c-472f-b427-fb8678cc3ad5",
   "metadata": {},
   "outputs": [],
   "source": []
  }
 ],
 "metadata": {
  "kernelspec": {
   "display_name": "Python 3 (ipykernel)",
   "language": "python",
   "name": "python3"
  },
  "language_info": {
   "codemirror_mode": {
    "name": "ipython",
    "version": 3
   },
   "file_extension": ".py",
   "mimetype": "text/x-python",
   "name": "python",
   "nbconvert_exporter": "python",
   "pygments_lexer": "ipython3",
   "version": "3.10.8"
  }
 },
 "nbformat": 4,
 "nbformat_minor": 5
}
