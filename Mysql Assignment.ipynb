{
 "cells": [
  {
   "cell_type": "markdown",
   "id": "9ea01554-71bf-438f-b18e-57192b28dccb",
   "metadata": {},
   "source": [
    "# Q-1"
   ]
  },
  {
   "cell_type": "markdown",
   "id": "6921fe91-a820-49aa-ad2e-76ac9cbc1685",
   "metadata": {},
   "source": [
    "### A database is an organized collection of structured information, or data, typically stored electronically in a computer system."
   ]
  },
  {
   "cell_type": "markdown",
   "id": "8ade55b6-d5f2-4cd0-ae95-b70b77b3e284",
   "metadata": {},
   "source": [
    "SQL and NoSQL are two different types of database management systems (DBMS) with different approaches to data storage, data querying, and data modeling. Here are some of the main differences between SQL and NoSQL databases:\n",
    "\n",
    "Data Structure: SQL databases store data in structured tables with predefined columns and data types, while NoSQL databases store data in unstructured or semi-structured documents or key-value pairs.\n",
    "\n",
    "Scalability: SQL databases are vertically scalable, meaning that they can be scaled up by adding more processing power or memory to a single server. NoSQL databases, on the other hand, are horizontally scalable, meaning that they can be scaled out by adding more servers to a distributed system.\n",
    "\n",
    "Querying: SQL databases use a structured query language (SQL) to retrieve and manipulate data, which is well-suited for complex queries involving multiple tables and relationships. NoSQL databases use a variety of query languages, including document-based queries, key-value queries, and graph-based queries.\n",
    "\n",
    "Schema: SQL databases have a rigid schema that defines the structure of the database, including the tables, columns, and data types. NoSQL databases, on the other hand, have a flexible schema that allows for dynamic changes to the data model as new data is added or existing data is modified.\n",
    "\n",
    "ACID Compliance: SQL databases are typically ACID-compliant, which means that they guarantee the properties of Atomicity, Consistency, Isolation, and Durability. NoSQL databases, on the other hand, may sacrifice some of these properties in order to achieve greater scalability and performance.\n",
    "\n",
    "Use Cases: SQL databases are well-suited for applications that require complex data modeling, transactions, and ad-hoc querying. NoSQL databases are often used for large-scale applications that require high scalability, low latency, and flexible data modeling, such as real-time analytics, social media, and content management systems"
   ]
  },
  {
   "cell_type": "markdown",
   "id": "fd4e92d4-d671-465d-87d5-2805c2ef88aa",
   "metadata": {},
   "source": [
    "# Q-2"
   ]
  },
  {
   "cell_type": "markdown",
   "id": "78a9bd46-befe-48a4-8615-7e3f056f2434",
   "metadata": {},
   "source": [
    "### DDL stands for Data Definition Language, which is a subset of SQL (Structured Query Language) that is used to define and manage the structure of a database. DDL statements are used to create, modify, and delete database objects such as tables, indexes, constraints, and views."
   ]
  },
  {
   "cell_type": "markdown",
   "id": "14dc6aa0-c9b9-4436-91cc-d454b1dad3ff",
   "metadata": {},
   "source": [
    "### CREATE: This DDL statement is used to create a new table, index, or view in the database. For example, the following SQL statement creates a new table called \"customers\" with columns for customer ID, name, and email:"
   ]
  },
  {
   "cell_type": "code",
   "execution_count": 1,
   "id": "97297ccd-388e-48ae-ac09-d08b69149757",
   "metadata": {},
   "outputs": [
    {
     "ename": "SyntaxError",
     "evalue": "invalid syntax (3031572598.py, line 1)",
     "output_type": "error",
     "traceback": [
      "\u001b[0;36m  Cell \u001b[0;32mIn[1], line 1\u001b[0;36m\u001b[0m\n\u001b[0;31m    CREATE TABLE customers (\u001b[0m\n\u001b[0m           ^\u001b[0m\n\u001b[0;31mSyntaxError\u001b[0m\u001b[0;31m:\u001b[0m invalid syntax\n"
     ]
    }
   ],
   "source": [
    "CREATE TABLE customers (\n",
    "  id INT PRIMARY KEY,\n",
    "  name VARCHAR(50),\n",
    "  email VARCHAR(50)\n",
    ");\n"
   ]
  },
  {
   "cell_type": "markdown",
   "id": "1dabfdd8-b0ba-4dfd-88eb-3dca4458a6af",
   "metadata": {},
   "source": [
    "### DROP: This DDL statement is used to delete a table, index, or view from the database. For example, the following SQL statement deletes the \"customers\" table:"
   ]
  },
  {
   "cell_type": "code",
   "execution_count": 2,
   "id": "a50190b3-ddd8-41c3-b9c8-bf7cd1b23ff3",
   "metadata": {},
   "outputs": [
    {
     "ename": "SyntaxError",
     "evalue": "invalid syntax (1894611224.py, line 1)",
     "output_type": "error",
     "traceback": [
      "\u001b[0;36m  Cell \u001b[0;32mIn[2], line 1\u001b[0;36m\u001b[0m\n\u001b[0;31m    DROP TABLE customers;\u001b[0m\n\u001b[0m         ^\u001b[0m\n\u001b[0;31mSyntaxError\u001b[0m\u001b[0;31m:\u001b[0m invalid syntax\n"
     ]
    }
   ],
   "source": [
    "DROP TABLE customers;"
   ]
  },
  {
   "cell_type": "markdown",
   "id": "0196bcc6-d2c0-4ec7-80f4-ecec9e46f516",
   "metadata": {},
   "source": [
    "### ALTER: This DDL statement is used to modify the structure of an existing table, such as adding or removing columns or changing the data type of a column. For example, the following SQL statement adds a new column called \"phone\" to the \"customers\" table:"
   ]
  },
  {
   "cell_type": "code",
   "execution_count": 3,
   "id": "c87018f2-28de-4865-8337-5762ac208dda",
   "metadata": {},
   "outputs": [
    {
     "ename": "SyntaxError",
     "evalue": "invalid syntax (1392994793.py, line 1)",
     "output_type": "error",
     "traceback": [
      "\u001b[0;36m  Cell \u001b[0;32mIn[3], line 1\u001b[0;36m\u001b[0m\n\u001b[0;31m    ALTER TABLE customers\u001b[0m\n\u001b[0m          ^\u001b[0m\n\u001b[0;31mSyntaxError\u001b[0m\u001b[0;31m:\u001b[0m invalid syntax\n"
     ]
    }
   ],
   "source": [
    "ALTER TABLE customers\n",
    "ADD phone VARCHAR(20);\n"
   ]
  },
  {
   "cell_type": "markdown",
   "id": "74d60090-d990-4137-ba8a-030a25709889",
   "metadata": {},
   "source": [
    "### TRUNCATE: This DDL statement is used to remove all data from a table, but it does not delete the table structure. For example, the following SQL statement removes all data from the \"customers\" table:"
   ]
  },
  {
   "cell_type": "code",
   "execution_count": 4,
   "id": "c2ec5930-e86d-4c22-b9e7-39b76bbf4a3a",
   "metadata": {},
   "outputs": [
    {
     "ename": "SyntaxError",
     "evalue": "invalid syntax (525203214.py, line 1)",
     "output_type": "error",
     "traceback": [
      "\u001b[0;36m  Cell \u001b[0;32mIn[4], line 1\u001b[0;36m\u001b[0m\n\u001b[0;31m    TRUNCATE TABLE customers;\u001b[0m\n\u001b[0m             ^\u001b[0m\n\u001b[0;31mSyntaxError\u001b[0m\u001b[0;31m:\u001b[0m invalid syntax\n"
     ]
    }
   ],
   "source": [
    "TRUNCATE TABLE customers;\n"
   ]
  },
  {
   "cell_type": "markdown",
   "id": "8c6086f6-2fa6-4cea-a484-9227e6c14d3f",
   "metadata": {},
   "source": [
    "# Q-3"
   ]
  },
  {
   "cell_type": "markdown",
   "id": "8db6dfc6-17be-49b9-bb05-502c765be093",
   "metadata": {},
   "source": [
    "### DML stands for Data Manipulation Language, which is a subset of SQL (Structured Query Language) used to modify data stored in a database. DML statements are used to add, update, and delete data from tables."
   ]
  },
  {
   "cell_type": "markdown",
   "id": "e607652e-3564-464a-9a11-1e063d4da291",
   "metadata": {},
   "source": [
    "### INSERT: This DML statement is used to add new rows to a table. For example, the following SQL statement inserts a new row into the \"customers\" table with values for the \"name\" and \"email\" columns:"
   ]
  },
  {
   "cell_type": "code",
   "execution_count": 5,
   "id": "e3faa69b-526c-49ab-bb58-51313e64d7b7",
   "metadata": {},
   "outputs": [
    {
     "ename": "SyntaxError",
     "evalue": "invalid syntax (4187510764.py, line 1)",
     "output_type": "error",
     "traceback": [
      "\u001b[0;36m  Cell \u001b[0;32mIn[5], line 1\u001b[0;36m\u001b[0m\n\u001b[0;31m    INSERT INTO customers (name, email)\u001b[0m\n\u001b[0m           ^\u001b[0m\n\u001b[0;31mSyntaxError\u001b[0m\u001b[0;31m:\u001b[0m invalid syntax\n"
     ]
    }
   ],
   "source": [
    "INSERT INTO customers (name, email)\n",
    "VALUES ('John Doe', 'john.doe@example.com');\n"
   ]
  },
  {
   "cell_type": "markdown",
   "id": "799e9e1b-fdce-45ee-a66e-f6aee118bb0c",
   "metadata": {},
   "source": [
    "### UPDATE: This DML statement is used to modify existing rows in a table. For example, the following SQL statement updates the \"email\" column for the row in the \"customers\" table where the \"id\" is 1:"
   ]
  },
  {
   "cell_type": "code",
   "execution_count": 6,
   "id": "2cdc1b31-465d-456d-90d4-a3922236d1d5",
   "metadata": {},
   "outputs": [
    {
     "ename": "SyntaxError",
     "evalue": "invalid syntax (1500115105.py, line 1)",
     "output_type": "error",
     "traceback": [
      "\u001b[0;36m  Cell \u001b[0;32mIn[6], line 1\u001b[0;36m\u001b[0m\n\u001b[0;31m    UPDATE customers\u001b[0m\n\u001b[0m           ^\u001b[0m\n\u001b[0;31mSyntaxError\u001b[0m\u001b[0;31m:\u001b[0m invalid syntax\n"
     ]
    }
   ],
   "source": [
    "UPDATE customers\n",
    "SET email = 'jane.doe@example.com'\n",
    "WHERE id = 1;\n"
   ]
  },
  {
   "cell_type": "markdown",
   "id": "e10f6da9-9072-4c9f-9cdd-b20fb6c46712",
   "metadata": {},
   "source": [
    "### DELETE: This DML statement is used to remove rows from a table. For example, the following SQL statement removes the row in the \"customers\" table where the \"id\" is 2:"
   ]
  },
  {
   "cell_type": "code",
   "execution_count": 7,
   "id": "6a094561-ebc4-48fb-bc94-5c58e470c25a",
   "metadata": {},
   "outputs": [
    {
     "ename": "SyntaxError",
     "evalue": "invalid syntax (52503515.py, line 1)",
     "output_type": "error",
     "traceback": [
      "\u001b[0;36m  Cell \u001b[0;32mIn[7], line 1\u001b[0;36m\u001b[0m\n\u001b[0;31m    DELETE FROM customers\u001b[0m\n\u001b[0m           ^\u001b[0m\n\u001b[0;31mSyntaxError\u001b[0m\u001b[0;31m:\u001b[0m invalid syntax\n"
     ]
    }
   ],
   "source": [
    "DELETE FROM customers\n",
    "WHERE id = 2;\n"
   ]
  },
  {
   "cell_type": "markdown",
   "id": "47c4d431-f2b4-43cb-9618-deeaa19e6f46",
   "metadata": {},
   "source": [
    "# Q-4"
   ]
  },
  {
   "cell_type": "markdown",
   "id": "6f83771a-3eee-418b-864d-d1c304170873",
   "metadata": {},
   "source": [
    "### DQL stands for Data Query Language, which is a subset of SQL (Structured Query Language) used to retrieve data from a database. DQL statements are used to query data from tables."
   ]
  },
  {
   "cell_type": "markdown",
   "id": "f9035b37-1c03-4aa9-b5ab-bdaa06e3b624",
   "metadata": {},
   "source": [
    " ### The SELECT statement is used to retrieve data from a database by specifying the columns and table to query and an optional condition to limit the rows returned."
   ]
  },
  {
   "cell_type": "code",
   "execution_count": 8,
   "id": "0627f469-0fb3-474e-a58b-5ed9c2685073",
   "metadata": {},
   "outputs": [
    {
     "ename": "SyntaxError",
     "evalue": "invalid syntax (4032034747.py, line 1)",
     "output_type": "error",
     "traceback": [
      "\u001b[0;36m  Cell \u001b[0;32mIn[8], line 1\u001b[0;36m\u001b[0m\n\u001b[0;31m    SELECT * FROM customers WHERE id = 1;\u001b[0m\n\u001b[0m                  ^\u001b[0m\n\u001b[0;31mSyntaxError\u001b[0m\u001b[0;31m:\u001b[0m invalid syntax\n"
     ]
    }
   ],
   "source": [
    "SELECT * FROM customers WHERE id = 1;\n"
   ]
  },
  {
   "cell_type": "markdown",
   "id": "c3073301-c486-4750-b95f-9df5c393debe",
   "metadata": {},
   "source": [
    "# Q-5"
   ]
  },
  {
   "cell_type": "markdown",
   "id": "b9c36d9a-c7d3-4ec0-872a-711b3802ba0a",
   "metadata": {},
   "source": [
    "### A primary key is a column or a set of columns that uniquely identifies each row in a table. It is used to enforce data integrity and ensure that each row in the table is unique. The primary key is also used to define relationships between tables. In most cases, the primary key is a single column, but it can also be a combination of columns."
   ]
  },
  {
   "cell_type": "markdown",
   "id": "aa6da16e-8030-4317-9484-43f14eeade36",
   "metadata": {},
   "source": [
    "### A foreign key is a column or a set of columns in a table that refers to the primary key of another table. It is used to establish a link between two tables and enforce referential integrity. The foreign key is used to maintain consistency between the data in the related tables. It ensures that the data entered in the child table is consistent with the data in the parent table."
   ]
  },
  {
   "cell_type": "markdown",
   "id": "40c4cf4e-13fc-4543-9478-ebc634cb2d05",
   "metadata": {},
   "source": [
    "# Q-6"
   ]
  },
  {
   "cell_type": "code",
   "execution_count": 9,
   "id": "348b9418-9799-4499-87ca-fb102952eb2b",
   "metadata": {},
   "outputs": [
    {
     "ename": "SyntaxError",
     "evalue": "invalid syntax. Perhaps you forgot a comma? (2408115257.py, line 3)",
     "output_type": "error",
     "traceback": [
      "\u001b[0;36m  Cell \u001b[0;32mIn[9], line 3\u001b[0;36m\u001b[0m\n\u001b[0;31m    host = \"localhost\"\u001b[0m\n\u001b[0m           ^\u001b[0m\n\u001b[0;31mSyntaxError\u001b[0m\u001b[0;31m:\u001b[0m invalid syntax. Perhaps you forgot a comma?\n"
     ]
    }
   ],
   "source": [
    "import mysql.connector\n",
    "mydb = mysql.connector.connect(\n",
    "    host = \"localhost\"\n",
    "    user = \"abc\"\n",
    "    password = \"password\"\n",
    ")\n",
    "mycursor = mydb.cursor()\n",
    "mycursor.execute(\"\")"
   ]
  },
  {
   "cell_type": "markdown",
   "id": "3f75c4e8-d47e-4885-9bf3-f7d686d49aa5",
   "metadata": {},
   "source": [
    "### The cursor() method creates a cursor object that allows us to execute SQL queries, and the execute() method is used to execute a SQL query on the cursor object."
   ]
  },
  {
   "cell_type": "markdown",
   "id": "b669006e-44e4-48af-a309-040aeceabadd",
   "metadata": {},
   "source": [
    "# Q-6"
   ]
  },
  {
   "cell_type": "markdown",
   "id": "86c8c4e1-3870-4fd8-ad90-64cd3658d8a9",
   "metadata": {},
   "source": [
    "### The order of execution of SQL clauses in an SQL query is as follows:\n",
    "\n",
    "### 1.FROM: Specifies the table(s) from which data will be retrieved.\n",
    "### 2.JOIN: Joins multiple tables together based on a specified condition.\n",
    "### 3.WHERE: Filters rows based on a specified condition.\n",
    "### 4.GROUP BY: Groups rows based on a specified column.\n",
    "### 5.HAVING: Filters groups based on a specified condition.\n",
    "### 6.SELECT: Selects columns from the table(s) that are included in the FROM clause.\n",
    "### 7.DISTINCT: Removes duplicate rows from the result set.\n",
    "### 8.ORDER BY: Sorts rows based on a specified column or columns.\n",
    "### 9.LIMIT/OFFSET: Limits the number of rows returned by the query and/or specifies the starting row for the result set."
   ]
  },
  {
   "cell_type": "code",
   "execution_count": null,
   "id": "732f5b54-81fb-4246-9142-1b26562a8124",
   "metadata": {},
   "outputs": [],
   "source": []
  }
 ],
 "metadata": {
  "kernelspec": {
   "display_name": "Python 3 (ipykernel)",
   "language": "python",
   "name": "python3"
  },
  "language_info": {
   "codemirror_mode": {
    "name": "ipython",
    "version": 3
   },
   "file_extension": ".py",
   "mimetype": "text/x-python",
   "name": "python",
   "nbconvert_exporter": "python",
   "pygments_lexer": "ipython3",
   "version": "3.10.8"
  }
 },
 "nbformat": 4,
 "nbformat_minor": 5
}
