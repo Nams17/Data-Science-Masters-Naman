{
 "cells": [
  {
   "cell_type": "markdown",
   "id": "8f31280e-1f2f-4dd5-81bf-798073ce65a1",
   "metadata": {},
   "source": [
    "# Q-1\n",
    "## Characteristics of Tuples are:\n",
    "### Tuple items are ordered\n",
    "### Tuples are unchangable\n",
    "### Tuples allow duplicate values\n",
    "### Tuple items are indexed and indexing starts from 0\n",
    "\n",
    "### Yes, tuples are immutable\n"
   ]
  },
  {
   "cell_type": "markdown",
   "id": "06327aed-7888-47cf-bdfa-7fe01f10f123",
   "metadata": {},
   "source": [
    "# Q-2\n",
    "### Two tuple built-in methods are count() and index()\n",
    "\n"
   ]
  },
  {
   "cell_type": "code",
   "execution_count": 9,
   "id": "56924686-51f8-4cd0-a934-91dfa6364aec",
   "metadata": {},
   "outputs": [
    {
     "name": "stdout",
     "output_type": "stream",
     "text": [
      "2\n"
     ]
    }
   ],
   "source": [
    "thistuple = (1, 3, 7, 8, 7, 5, 4, 6, 8, 5)\n",
    "\n",
    "x = thistuple.count(5)\n",
    "\n",
    "print(x) "
   ]
  },
  {
   "cell_type": "code",
   "execution_count": 10,
   "id": "0f441ad6-e4a5-41bf-8694-f9b46d452d9b",
   "metadata": {},
   "outputs": [
    {
     "name": "stdout",
     "output_type": "stream",
     "text": [
      "7\n"
     ]
    }
   ],
   "source": [
    "x = thistuple.index(6)\n",
    "print(x)"
   ]
  },
  {
   "cell_type": "markdown",
   "id": "64714c30-3187-4091-98eb-bf9c3af770e4",
   "metadata": {},
   "source": [
    "### Tuples have only two built in methods as compared to lists is because tuples are immutable."
   ]
  },
  {
   "cell_type": "markdown",
   "id": "23b5bb00-d475-4476-beb8-5baa9e12ac33",
   "metadata": {},
   "source": [
    "# Q-3\n",
    "### Sets in python do not allow duplicate items"
   ]
  },
  {
   "cell_type": "code",
   "execution_count": 14,
   "id": "038959a5-fef5-4910-acf1-cfe9f45d5e1a",
   "metadata": {},
   "outputs": [],
   "source": [
    "List = [1, 1, 1, 2, 1, 3, 1, 4, 2, 1, 2, 2, 2, 3, 2, 4, 3, 1, 3, 2, 3, 3, 3, 4, 4, 1, 4, 2, 4, 3, 4, 4]"
   ]
  },
  {
   "cell_type": "code",
   "execution_count": 15,
   "id": "f66ba9b4-2859-4d53-8800-52f4aaeda5b9",
   "metadata": {},
   "outputs": [
    {
     "data": {
      "text/plain": [
       "{1, 2, 3, 4}"
      ]
     },
     "execution_count": 15,
     "metadata": {},
     "output_type": "execute_result"
    }
   ],
   "source": [
    "set(List)"
   ]
  },
  {
   "cell_type": "markdown",
   "id": "bd563a63-b645-48a1-906d-9b8cc8f45cc2",
   "metadata": {},
   "source": [
    "# Q-4\n",
    "### union() method create and return a new set, containing all the elements ( distinct ) present in all the iterables, update() method updates the set on which this method is called with all the distinct elements present in all the iterables."
   ]
  },
  {
   "cell_type": "code",
   "execution_count": 16,
   "id": "912c3328-fd76-498c-8f6f-967eb1345faf",
   "metadata": {},
   "outputs": [],
   "source": [
    "A = {1,2,3,4}\n",
    "B = {5,6,7,8}"
   ]
  },
  {
   "cell_type": "code",
   "execution_count": 17,
   "id": "62c561b1-c1c0-4f89-b9b3-976d51448b68",
   "metadata": {},
   "outputs": [
    {
     "data": {
      "text/plain": [
       "{1, 2, 3, 4, 5, 6, 7, 8}"
      ]
     },
     "execution_count": 17,
     "metadata": {},
     "output_type": "execute_result"
    }
   ],
   "source": [
    "A.union(B)"
   ]
  },
  {
   "cell_type": "code",
   "execution_count": 18,
   "id": "1a557144-88a4-4e0f-908b-46ca27c85bed",
   "metadata": {},
   "outputs": [],
   "source": [
    "A.update(B)"
   ]
  },
  {
   "cell_type": "code",
   "execution_count": 19,
   "id": "9ac42512-21a3-4d29-af32-3025ccceea45",
   "metadata": {},
   "outputs": [
    {
     "data": {
      "text/plain": [
       "{1, 2, 3, 4, 5, 6, 7, 8}"
      ]
     },
     "execution_count": 19,
     "metadata": {},
     "output_type": "execute_result"
    }
   ],
   "source": [
    "A"
   ]
  },
  {
   "cell_type": "markdown",
   "id": "cc10dbb1-2d75-4c84-9528-05cea75da5d4",
   "metadata": {},
   "source": [
    "# Q-5\n",
    "### A dictionary is a collection which is ordered, changable and it is used to store key:value pairs."
   ]
  },
  {
   "cell_type": "code",
   "execution_count": 29,
   "id": "1669e936-f907-4dfe-ba78-63a761746420",
   "metadata": {},
   "outputs": [],
   "source": [
    "dict_c = {\"Kohli\" : \"Batter\", \"Bumrah\" : \"Bowler\", \"Jadeja\" : \"All Rounder\"}"
   ]
  },
  {
   "cell_type": "code",
   "execution_count": 30,
   "id": "157be46c-bf45-4923-892d-b9193450f6fe",
   "metadata": {},
   "outputs": [
    {
     "data": {
      "text/plain": [
       "{'Kohli': 'Batter', 'Bumrah': 'Bowler', 'Jadeja': 'All Rounder'}"
      ]
     },
     "execution_count": 30,
     "metadata": {},
     "output_type": "execute_result"
    }
   ],
   "source": [
    "dict_c"
   ]
  },
  {
   "cell_type": "markdown",
   "id": "fe218bdf-b40f-4b3b-b912-cb048045743a",
   "metadata": {},
   "source": [
    "# Q-6\n",
    "### Yes, we can create a nested dictionary"
   ]
  },
  {
   "cell_type": "code",
   "execution_count": 27,
   "id": "aa72f65e-b739-494c-9b9b-46200123e5bf",
   "metadata": {},
   "outputs": [],
   "source": [
    "myFamily = {\n",
    "    \"child1\" : {\n",
    "        \"name\" : \"Jonah\",\n",
    "        \"age\" : 28\n",
    "    },\n",
    "    \"child2\" : {\n",
    "        \"name\" : \"Sam\",\n",
    "        \"age\" : 20\n",
    "    }\n",
    "\n",
    "}"
   ]
  },
  {
   "cell_type": "code",
   "execution_count": 28,
   "id": "466585b9-7db9-4a1c-b5ee-298d94501565",
   "metadata": {},
   "outputs": [
    {
     "data": {
      "text/plain": [
       "{'child1': {'name': 'Jonah', 'age': 28}, 'child2': {'name': 'Sam', 'age': 20}}"
      ]
     },
     "execution_count": 28,
     "metadata": {},
     "output_type": "execute_result"
    }
   ],
   "source": [
    "myFamily"
   ]
  },
  {
   "cell_type": "markdown",
   "id": "0d38c336-b778-4319-919a-9458f0f78355",
   "metadata": {},
   "source": [
    "# Q-7"
   ]
  },
  {
   "cell_type": "code",
   "execution_count": 3,
   "id": "7bbb2753-9602-4bc8-8090-335efe35917c",
   "metadata": {},
   "outputs": [],
   "source": [
    "dict1 = {'language' : 'Python', 'course': 'Data Science Masters'}"
   ]
  },
  {
   "cell_type": "code",
   "execution_count": 8,
   "id": "bbcf2888-d6db-4b1f-9483-543f38f446a6",
   "metadata": {},
   "outputs": [],
   "source": [
    "x = dict1.setdefault('lang' , ['Python', 'Machine Learning', 'Deep Learning'])"
   ]
  },
  {
   "cell_type": "code",
   "execution_count": 9,
   "id": "28904c18-45e2-4331-beb4-7442a3acfc43",
   "metadata": {},
   "outputs": [
    {
     "data": {
      "text/plain": [
       "['Python', 'Machine Learning', 'Deep Learning']"
      ]
     },
     "execution_count": 9,
     "metadata": {},
     "output_type": "execute_result"
    }
   ],
   "source": [
    "x"
   ]
  },
  {
   "cell_type": "code",
   "execution_count": 10,
   "id": "50a16dd7-ed69-4307-924d-f50d708cd299",
   "metadata": {},
   "outputs": [
    {
     "data": {
      "text/plain": [
       "{'language': 'Python',\n",
       " 'course': 'Data Science Masters',\n",
       " 'lang': ['Python', 'Machine Learning', 'Deep Learning']}"
      ]
     },
     "execution_count": 10,
     "metadata": {},
     "output_type": "execute_result"
    }
   ],
   "source": [
    "dict1"
   ]
  },
  {
   "cell_type": "markdown",
   "id": "36a8c659-02e2-4f93-8606-367187b1f98c",
   "metadata": {},
   "source": [
    "# Q-8\n",
    "### A dictionary in Python has three \"view objects\" that provide different ways to view the elements in the dictionary. These view objects are:\n",
    "\n",
    "### keys: This view object provides a view of the dictionary's keys.\n",
    "### values: This view object provides a view of the dictionary's values.\n",
    "### items: This view object provides a view of the dictionary's key-value pairs as a list of tuples.\n"
   ]
  },
  {
   "cell_type": "code",
   "execution_count": 13,
   "id": "8d410aee-1079-464d-af6d-15573ac9f3df",
   "metadata": {},
   "outputs": [
    {
     "name": "stdout",
     "output_type": "stream",
     "text": [
      "Keys View: ['Sport', 'Teams']\n",
      "Values View: ['Cricket', ['India', 'Australia', 'England', 'South Africa', 'Sri Lanka', 'New Zealand']]\n",
      "Items View: [('Sport', 'Cricket'), ('Teams', ['India', 'Australia', 'England', 'South Africa', 'Sri Lanka', 'New Zealand'])]\n"
     ]
    }
   ],
   "source": [
    "dict1 = {'Sport': 'Cricket' , 'Teams': ['India', 'Australia', 'England', 'South Africa', 'Sri Lanka', 'New Zealand']}\n",
    "\n",
    "# keys view\n",
    "keys_view = dict1.keys()\n",
    "print(f\"Keys View: {list(keys_view)}\")\n",
    "\n",
    "# values view\n",
    "values_view = dict1.values()\n",
    "print(f\"Values View: {list(values_view)}\")\n",
    "\n",
    "# items view\n",
    "items_view = dict1.items()\n",
    "print(f\"Items View: {list(items_view)}\")"
   ]
  },
  {
   "cell_type": "code",
   "execution_count": null,
   "id": "d49f6eff-2dd7-4ad4-8ed9-433f26aaaab8",
   "metadata": {},
   "outputs": [],
   "source": []
  }
 ],
 "metadata": {
  "kernelspec": {
   "display_name": "Python 3 (ipykernel)",
   "language": "python",
   "name": "python3"
  },
  "language_info": {
   "codemirror_mode": {
    "name": "ipython",
    "version": 3
   },
   "file_extension": ".py",
   "mimetype": "text/x-python",
   "name": "python",
   "nbconvert_exporter": "python",
   "pygments_lexer": "ipython3",
   "version": "3.10.8"
  }
 },
 "nbformat": 4,
 "nbformat_minor": 5
}
