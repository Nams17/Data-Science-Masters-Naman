{
 "cells": [
  {
   "cell_type": "markdown",
   "id": "015e91f5-cada-454b-b831-417230a5df46",
   "metadata": {},
   "source": [
    "# Q-1"
   ]
  },
  {
   "cell_type": "markdown",
   "id": "61a7e49a-240a-4b51-abe5-16af1fad8b37",
   "metadata": {},
   "source": [
    "### Ordinal Encoding:\n",
    "### Ordinal encoding is used when the categorical variable has an inherent order or hierarchy among its categories. It assigns integer labels to the categories based on their order or level of preference. The numerical labels preserve the ordinal relationship between the categories.\n",
    "### Suppose we have a categorical variable \"Education Level\" with categories \"High School,\" \"Bachelor's Degree,\" \"Master's Degree,\" and \"Ph.D.\" In ordinal encoding, we can assign integer labels 0, 1, 2, and 3 to represent the increasing level of education, respectively.\n",
    "### Label Encoding:\n",
    "### Label encoding, on the other hand, is a more generic encoding technique that assigns a unique numerical label to each category of the categorical variable. The labels are assigned arbitrarily without considering any ordering or hierarchy between the categories.\n",
    "### Consider a categorical variable \"City\" with categories \"New York,\" \"London,\" and \"Paris.\" In label encoding, we can assign integer labels 0, 1, and 2 to represent the cities, respectively."
   ]
  },
  {
   "cell_type": "markdown",
   "id": "b9c2aed9-1688-4ecd-b08b-1f32c3c17352",
   "metadata": {},
   "source": [
    "# Q-2"
   ]
  },
  {
   "cell_type": "markdown",
   "id": "046dd38d-c9c1-44fe-9933-4a03cbdafbac",
   "metadata": {},
   "source": [
    "### Target Guided Ordinal Encoding is a technique used to encode categorical variables based on their relationship with the target variable in a supervised machine learning setting. It assigns ordinal labels to the categories of the variable, considering the likelihood of the target variable being a specific value for each category.\n",
    "### Here's how Target Guided Ordinal Encoding works:\n",
    "### 1. Calculate the Mean/Median/Mode of the Target Variable:\n",
    "### 2. Sort the Categories:\n",
    "### 3. Assign Ordinal Labels:\n",
    "### 4. Replace the Categorical Variable with the Encoded Labels:"
   ]
  },
  {
   "cell_type": "markdown",
   "id": "673d77f5-827d-40a7-9859-3d3081782f20",
   "metadata": {},
   "source": [
    "### Here's an example to illustrate the usage of Target Guided Ordinal Encoding:\n",
    "### Suppose we have a dataset with a categorical variable \"Education Level\" (categories: High School, Bachelor's Degree, Master's Degree, Ph.D.) and a binary target variable indicating whether a person is likely to default on a loan (Yes or No).\n",
    "### To apply Target Guided Ordinal Encoding, we calculate the default rate (proportion of defaults) for each category of \"Education Level.\" We sort the categories based on their default rate and assign ordinal labels accordingly. The category with the highest default rate can be assigned the highest label, indicating a higher risk of default.\n",
    "### Example Encoding:\n",
    "\n",
    "### High School: 1 (Lowest risk of default)\n",
    "### Bachelor's Degree: 2\n",
    "### Master's Degree: 3\n",
    "### Ph.D.: 4 (Highest risk of default)\n",
    "\n",
    "### In this scenario, Target Guided Ordinal Encoding takes into account the relationship between the \"Education Level\" variable and the likelihood of default, allowing the encoded variable to capture the underlying patterns and prioritize the categories based on their association with the target variable."
   ]
  },
  {
   "cell_type": "markdown",
   "id": "98c2231e-ba36-4b64-a017-d016548482b9",
   "metadata": {},
   "source": [
    "# Q-3"
   ]
  },
  {
   "cell_type": "markdown",
   "id": "2d7a4bf4-ef0c-4a0b-abb4-bcd273fa97a5",
   "metadata": {},
   "source": [
    "### Covariance is a measure of how two variables vary together. It quantifies the relationship and the extent to which changes in one variable correspond to changes in another variable. It helps to understand the direction (positive or negative) and strength of the linear relationship between two variables.\n",
    "### Covariance is important in statistical analysis for several reasons:\n",
    "### Relationship Assessment: Covariance allows us to assess the degree and direction of the relationship between two variables. A positive covariance indicates that the variables tend to move in the same direction (increase or decrease together), while a negative covariance indicates an inverse relationship.\n",
    "### Dependency Identification: Covariance helps to identify the dependency between variables. If the covariance is close to zero, it suggests that the variables are independent or have a weak linear relationship. On the other hand, a significant covariance value indicates that the variables are dependent.\n",
    "### Feature Selection: In machine learning and feature selection tasks, covariance can be used to identify highly correlated features. Variables with high covariance may provide redundant or similar information, and reducing such variables can simplify the model and improve interpretability.\n",
    "### Covariance is calculated using the following formula:\n",
    "\n",
    "### cov(X, Y) = Σ((Xᵢ - μₓ)(Yᵢ - μᵧ))/(N-1)\n",
    "\n",
    "### Where:\n",
    "\n",
    "### X and Y are the two variables of interest.\n",
    "### Xᵢ and Yᵢ are the individual observations of X and Y.\n",
    "### μₓ and μᵧ are the means of X and Y, respectively.\n",
    "### N is the number of observations."
   ]
  },
  {
   "cell_type": "markdown",
   "id": "e88a2b2d-d6a8-482c-9e40-bd460ca8032f",
   "metadata": {},
   "source": [
    "# Q-4"
   ]
  },
  {
   "cell_type": "code",
   "execution_count": 2,
   "id": "7bdd4304-a93c-49e0-b505-5d51927857a2",
   "metadata": {},
   "outputs": [
    {
     "name": "stdout",
     "output_type": "stream",
     "text": [
      "color encoded:  [2 1 0]\n",
      "size encoded:  [2 1 0]\n",
      "material encoded: [2 0 1]\n"
     ]
    }
   ],
   "source": [
    "from sklearn.preprocessing import LabelEncoder\n",
    "\n",
    "label_encoder = LabelEncoder()\n",
    "\n",
    "color = ['red','green','blue']\n",
    "size = ['small','medium','large']\n",
    "material = ['wood','metal','plastic']\n",
    "\n",
    "color_encoded = label_encoder.fit_transform(color)\n",
    "size_encoded = label_encoder.fit_transform(size)\n",
    "material_encoded = label_encoder.fit_transform(material)\n",
    "\n",
    "print(\"color encoded: \", color_encoded)\n",
    "print(\"size encoded: \", size_encoded)\n",
    "print(\"material encoded:\", material_encoded)"
   ]
  },
  {
   "cell_type": "markdown",
   "id": "7af07dfb-d1d5-41c1-bb2a-d76e83ff1650",
   "metadata": {},
   "source": [
    "# Q-5"
   ]
  },
  {
   "cell_type": "code",
   "execution_count": 3,
   "id": "80601ad7-9e52-4f4b-9ea1-78f8e21deece",
   "metadata": {},
   "outputs": [
    {
     "name": "stdout",
     "output_type": "stream",
     "text": [
      "[[6.250e+01 9.375e+04 2.500e+01]\n",
      " [9.375e+04 1.450e+08 3.750e+04]\n",
      " [2.500e+01 3.750e+04 1.000e+01]]\n"
     ]
    }
   ],
   "source": [
    "import numpy as np\n",
    "\n",
    "# Define the data for each variable\n",
    "age = [30, 40, 35, 45, 50]\n",
    "income = [50000, 60000, 55000, 70000, 80000]\n",
    "education = [12, 16, 14, 18, 20]\n",
    "\n",
    "# Create a numpy array with the variables\n",
    "data = np.array([age, income, education])\n",
    "\n",
    "# Calculate the covariance matrix\n",
    "covariance_matrix = np.cov(data)\n",
    "\n",
    "# Print the covariance matrix\n",
    "print(covariance_matrix)\n"
   ]
  },
  {
   "cell_type": "markdown",
   "id": "20b9a48e-7ef2-41f1-9368-e3577c4858d4",
   "metadata": {},
   "source": [
    "# Q-6"
   ]
  },
  {
   "cell_type": "markdown",
   "id": "697a966b-55c9-44c6-af75-99258dd07685",
   "metadata": {},
   "source": [
    "### Gender:\n",
    "### Since there are only two categories (\"Male\" and \"Female\") in the \"Gender\" variable, you can use binary encoding or label encoding. \n",
    "### Education Level:\n",
    "### For the \"Education Level\" variable, which has multiple categories (e.g., \"High School,\" \"Bachelor's,\" \"Master's,\" \"PhD\"), you can use one-hot encoding or ordinal encoding.\n",
    "### Employment Status:\n",
    "### Similar to the \"Education Level\" variable, the \"Employment Status\" variable has multiple categories (\"Unemployed,\" \"Part-Time,\" \"Full-Time\"). For this variable, you can also use one-hot encoding or ordinal encoding.\n",
    "### "
   ]
  },
  {
   "cell_type": "markdown",
   "id": "35a03dd8-231c-4c62-8c9d-18616e694e7b",
   "metadata": {},
   "source": [
    "# Q-7"
   ]
  },
  {
   "cell_type": "code",
   "execution_count": 4,
   "id": "74e6938c-fb11-4677-be74-02530df280bc",
   "metadata": {},
   "outputs": [
    {
     "name": "stdout",
     "output_type": "stream",
     "text": [
      "[[62.5 62.5]\n",
      " [62.5 62.5]]\n"
     ]
    }
   ],
   "source": [
    "import numpy as np\n",
    "\n",
    "# Define the data for the continuous variables\n",
    "temperature = [20, 25, 30, 35, 40]\n",
    "humidity = [50, 55, 60, 65, 70]\n",
    "\n",
    "# Create a numpy array with the continuous variables\n",
    "continuous_data = np.array([temperature, humidity])\n",
    "\n",
    "# Calculate the covariance matrix\n",
    "covariance_matrix = np.cov(continuous_data)\n",
    "\n",
    "# Print the covariance matrix\n",
    "print(covariance_matrix)"
   ]
  },
  {
   "cell_type": "code",
   "execution_count": null,
   "id": "f62d355e-98cc-4901-b9d3-646df50828e2",
   "metadata": {},
   "outputs": [],
   "source": []
  }
 ],
 "metadata": {
  "kernelspec": {
   "display_name": "Python 3 (ipykernel)",
   "language": "python",
   "name": "python3"
  },
  "language_info": {
   "codemirror_mode": {
    "name": "ipython",
    "version": 3
   },
   "file_extension": ".py",
   "mimetype": "text/x-python",
   "name": "python",
   "nbconvert_exporter": "python",
   "pygments_lexer": "ipython3",
   "version": "3.10.8"
  }
 },
 "nbformat": 4,
 "nbformat_minor": 5
}
