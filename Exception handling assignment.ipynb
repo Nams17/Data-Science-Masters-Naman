{
 "cells": [
  {
   "cell_type": "markdown",
   "id": "e86eafb0-6772-4fab-bee8-fd2521403bc7",
   "metadata": {},
   "source": [
    "# Q-1"
   ]
  },
  {
   "cell_type": "markdown",
   "id": "b13eb0c3-f50d-4d73-8ead-94e51d629870",
   "metadata": {},
   "source": [
    "### When creating a custom exception, it is important to inherit from the base Exception class. This is because the Exception class provides the basic functionality that all exceptions need, such as a message and a traceback. Inheriting from the Exception class allows the custom exception to have access to these features.\n",
    "\n",
    "### In addition, inheriting from the Exception class also allows the custom exception to be caught by the same catch block that catches all other exceptions. This is because all exceptions in Python inherit from the base Exception class."
   ]
  },
  {
   "cell_type": "markdown",
   "id": "6f35c539-5d03-4507-b387-054b3fb51e12",
   "metadata": {},
   "source": [
    "# Q-2"
   ]
  },
  {
   "cell_type": "code",
   "execution_count": 3,
   "id": "21788c79-96fc-4cb6-ab3b-095ee5aefc93",
   "metadata": {},
   "outputs": [
    {
     "name": "stdout",
     "output_type": "stream",
     "text": [
      "Exception\n",
      "  BaseException\n",
      "    object\n"
     ]
    }
   ],
   "source": [
    "def print_exception_hierarchy(cls, indent=0):\n",
    "    print(' ' * indent + str(cls.__name__))\n",
    "    for base_cls in cls.__bases__:\n",
    "        print_exception_hierarchy(base_cls, indent + 2)\n",
    "\n",
    "\n",
    "print_exception_hierarchy(Exception)\n"
   ]
  },
  {
   "cell_type": "markdown",
   "id": "1a4ede63-455c-4d4a-a5c4-5b0775e1b78b",
   "metadata": {},
   "source": [
    "# Q-3"
   ]
  },
  {
   "cell_type": "markdown",
   "id": "a4bb2b38-ec89-4a7a-98d3-1d080afdaf8c",
   "metadata": {},
   "source": [
    "### 1. FloatingPointError: This exception is raised when a floating-point operation fails. For example, it is raised when we try to divide a number by zero using floating-point arithmetic."
   ]
  },
  {
   "cell_type": "code",
   "execution_count": 6,
   "id": "9190b670-f822-412f-bd4f-c0c443ee53af",
   "metadata": {},
   "outputs": [
    {
     "ename": "ZeroDivisionError",
     "evalue": "float division by zero",
     "output_type": "error",
     "traceback": [
      "\u001b[0;31m---------------------------------------------------------------------------\u001b[0m",
      "\u001b[0;31mZeroDivisionError\u001b[0m                         Traceback (most recent call last)",
      "Cell \u001b[0;32mIn[6], line 2\u001b[0m\n\u001b[1;32m      1\u001b[0m \u001b[38;5;28;01mtry\u001b[39;00m:\n\u001b[0;32m----> 2\u001b[0m     result \u001b[38;5;241m=\u001b[39m \u001b[38;5;241;43m1.0\u001b[39;49m\u001b[43m \u001b[49m\u001b[38;5;241;43m/\u001b[39;49m\u001b[43m \u001b[49m\u001b[38;5;241;43m0.0\u001b[39;49m\n\u001b[1;32m      3\u001b[0m \u001b[38;5;28;01mexcept\u001b[39;00m \u001b[38;5;167;01mFloatingPointError\u001b[39;00m \u001b[38;5;28;01mas\u001b[39;00m e:\n\u001b[1;32m      4\u001b[0m     \u001b[38;5;28mprint\u001b[39m(\u001b[38;5;124m\"\u001b[39m\u001b[38;5;124mError: \u001b[39m\u001b[38;5;124m\"\u001b[39m,e)\n",
      "\u001b[0;31mZeroDivisionError\u001b[0m: float division by zero"
     ]
    }
   ],
   "source": [
    "try:\n",
    "    result = 1.0 / 0.0\n",
    "except FloatingPointError as e:\n",
    "    print(\"Error: \",e)\n"
   ]
  },
  {
   "cell_type": "markdown",
   "id": "049df96d-8555-4137-b066-ef16d01f59a4",
   "metadata": {},
   "source": [
    "### 2. OverflowError: This exception is raised when a calculation produces a number that is too large to be represented. For example, it is raised when we try to calculate a factorial of a very large number.\n"
   ]
  },
  {
   "cell_type": "code",
   "execution_count": 8,
   "id": "eeae0d6d-fa76-4a57-b14d-931294f9cfb4",
   "metadata": {},
   "outputs": [],
   "source": [
    "import math\n",
    "\n",
    "try:\n",
    "    result = math.factorial(10000)\n",
    "except OverflowError as e:\n",
    "    print(\"Error:\", e)\n"
   ]
  },
  {
   "cell_type": "markdown",
   "id": "79a84307-355f-4adf-bf91-5ecd78be8c73",
   "metadata": {},
   "source": [
    "# Q-4"
   ]
  },
  {
   "cell_type": "markdown",
   "id": "e080e2bf-dfeb-4af1-a375-0149ed4c76f0",
   "metadata": {},
   "source": [
    "### The LookupError class is a built-in Python exception class that is raised when a key or index is not found in a mapping or sequence object."
   ]
  },
  {
   "cell_type": "markdown",
   "id": "de272a96-b250-40b7-8039-b3db44ed0ab7",
   "metadata": {},
   "source": [
    "### KeyError: This exception is raised when a key is not found in a dictionary. "
   ]
  },
  {
   "cell_type": "code",
   "execution_count": 9,
   "id": "78c06368-b9ee-4dae-aac3-d9112788fc4a",
   "metadata": {},
   "outputs": [
    {
     "name": "stdout",
     "output_type": "stream",
     "text": [
      "Error: 'd'\n"
     ]
    }
   ],
   "source": [
    "my_dict = {'a': 1, 'b': 2, 'c': 3}\n",
    "\n",
    "try:\n",
    "    value = my_dict['d']\n",
    "except KeyError as e:\n",
    "    print(\"Error:\", e)\n"
   ]
  },
  {
   "cell_type": "markdown",
   "id": "b589fa0d-c0fa-43db-9272-debc8a99f32f",
   "metadata": {},
   "source": [
    "### IndexError: This exception is raised when an index is not found in a sequence object like a list or tuple."
   ]
  },
  {
   "cell_type": "code",
   "execution_count": 10,
   "id": "d29d3c42-5e7c-4e1d-b234-7c6e5781e0fb",
   "metadata": {},
   "outputs": [
    {
     "name": "stdout",
     "output_type": "stream",
     "text": [
      "Error: list index out of range\n"
     ]
    }
   ],
   "source": [
    "my_list = [1, 2, 3]\n",
    "\n",
    "try:\n",
    "    value = my_list[3]\n",
    "except IndexError as e:\n",
    "    print(\"Error:\", e)\n"
   ]
  },
  {
   "cell_type": "markdown",
   "id": "fb77d54c-34a2-4f55-a373-5c451d287107",
   "metadata": {},
   "source": [
    "# Q-5"
   ]
  },
  {
   "cell_type": "markdown",
   "id": "a423ac35-f41e-4991-b69d-eaa6e2deff4f",
   "metadata": {},
   "source": [
    "### ImportError is a built-in Python exception that is raised when an imported module or package cannot be found or loaded. \n",
    "### ModuleNotFoundError is introduced as a subclass of ImportError. It is raised when a module is not found, and it provides a more specific error message to indicate which module could not be found."
   ]
  },
  {
   "cell_type": "markdown",
   "id": "db772e75-1b89-42cc-adc2-35c452bae514",
   "metadata": {},
   "source": [
    "# Q-6"
   ]
  },
  {
   "cell_type": "markdown",
   "id": "a2e35079-2c5c-4496-8e76-d7d8e644dabb",
   "metadata": {},
   "source": [
    "### 1. Be specific about the exception to catch.\n",
    "### 2. Use multiple except clauses.\n",
    "### 3. Use the finally clause to ensure that some cleanup code is executed.\n",
    "### 4. Log exceptions to a file or console to keep track of the errors that occur during program execution.\n",
    "### 5. Use custom exception classes when you need to handle specific exceptions that are not covered by the built-in exception classes."
   ]
  },
  {
   "cell_type": "code",
   "execution_count": null,
   "id": "d76238fb-af2e-418d-95c2-26448bc3c0ea",
   "metadata": {},
   "outputs": [],
   "source": []
  }
 ],
 "metadata": {
  "kernelspec": {
   "display_name": "Python 3 (ipykernel)",
   "language": "python",
   "name": "python3"
  },
  "language_info": {
   "codemirror_mode": {
    "name": "ipython",
    "version": 3
   },
   "file_extension": ".py",
   "mimetype": "text/x-python",
   "name": "python",
   "nbconvert_exporter": "python",
   "pygments_lexer": "ipython3",
   "version": "3.10.8"
  }
 },
 "nbformat": 4,
 "nbformat_minor": 5
}
