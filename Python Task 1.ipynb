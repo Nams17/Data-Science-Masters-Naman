{
 "cells": [
  {
   "cell_type": "markdown",
   "id": "1c30185f-c434-4501-9a64-26e7e78dba0e",
   "metadata": {},
   "source": [
    "# Q-1"
   ]
  },
  {
   "cell_type": "code",
   "execution_count": 1,
   "id": "07ee3460-bb49-417b-b2a0-9d60a1e171f9",
   "metadata": {},
   "outputs": [],
   "source": [
    "list1 = [1,2,3,4, [44,55,66, True], False, (34,56,78,89,34), {1,2,3,3,2,1}, {1:34, \"key2\": [55, 67, 78, 89], 4: (45,\n",
    "22, 61, 34)}, [56, 'data science'], 'Machine Learning']"
   ]
  },
  {
   "cell_type": "code",
   "execution_count": 10,
   "id": "30752c10-154e-40d5-b86a-d65a8c2aabf7",
   "metadata": {},
   "outputs": [],
   "source": [
    "def get_flat_list(*arg):\n",
    "    flat_list = []\n",
    "    for items in list1:\n",
    "        if type(items) == int:\n",
    "            flat_list.append(items)\n",
    "        elif type(items) == list:\n",
    "            for sub_item in items:\n",
    "                if type(sub_item) == int:\n",
    "                    flat_list.append(sub_item)\n",
    "        elif type(items) == str:\n",
    "            pass\n",
    "        elif type(items) == tuple:\n",
    "            for sub_item in items:\n",
    "                if type(sub_item) == int:\n",
    "                    flat_list.append(sub_item)\n",
    "        elif type(items) == set:\n",
    "            for sub_item in items:\n",
    "                if type(sub_item) == int:\n",
    "                    flat_list.append(sub_item)\n",
    "        elif type(items) == dict:\n",
    "            for sub_item in items:\n",
    "                if type(sub_item) == int:\n",
    "                    flat_list.append(sub_item)\n",
    "                if type(items[sub_item]) == int:\n",
    "                    flat_list.append(items[sub_item])\n",
    "                if type(sub_item) == str:\n",
    "                    pass\n",
    "                if type(items[sub_item]) == list or type(items[sub_item]) == tuple:\n",
    "                    for i in items[sub_item]:\n",
    "                        flat_list.append(i)\n",
    "        elif type(items) == list:\n",
    "            for sub_item in items:\n",
    "                if type(sub_item) == int:\n",
    "                    flat_list.append(sub_item)\n",
    "        else:\n",
    "            pass\n",
    "    print(flat_list)\n",
    "    value = 1\n",
    "    for i in flat_list:\n",
    "        value = value * i\n",
    "    return value"
   ]
  },
  {
   "cell_type": "code",
   "execution_count": 12,
   "id": "143e7552-10bd-40d0-a0aa-dece34983722",
   "metadata": {},
   "outputs": [
    {
     "name": "stdout",
     "output_type": "stream",
     "text": [
      "[1, 2, 3, 4, 44, 55, 66, 34, 56, 78, 89, 34, 1, 2, 3, 1, 34, 55, 67, 78, 89, 4, 45, 22, 61, 34, 56]\n"
     ]
    },
    {
     "data": {
      "text/plain": [
       "4134711838987085478833841242112000"
      ]
     },
     "execution_count": 12,
     "metadata": {},
     "output_type": "execute_result"
    }
   ],
   "source": [
    "get_flat_list()"
   ]
  },
  {
   "cell_type": "markdown",
   "id": "8103e49e-7fe9-4040-b0d8-a5827d6e8dda",
   "metadata": {},
   "source": [
    "# Q-2"
   ]
  },
  {
   "cell_type": "code",
   "execution_count": 19,
   "id": "d0661aa2-acc6-465d-8c61-1541179966e3",
   "metadata": {},
   "outputs": [
    {
     "name": "stdout",
     "output_type": "stream",
     "text": [
      "Original message: I want to become a Data Scientist.\n",
      "Encrypted message: r$dzmg$gl$yvxlnv$z$wzgz$hxrvmgrhg.\n"
     ]
    }
   ],
   "source": [
    "def encrypt_message(message):\n",
    "    message = message.lower()\n",
    "    encrypted_message = \"\"\n",
    "    for char in message:\n",
    "        if char == \" \":\n",
    "            encrypted_message += \"$\"\n",
    "        elif char.isalpha():\n",
    "            encrypted_message += chr(122 - ord(char) + 97)\n",
    "        else:\n",
    "            encrypted_message += char\n",
    "    return encrypted_message\n",
    "\n",
    "# Test the function with a sample message\n",
    "sample_message = \"I want to become a Data Scientist.\"\n",
    "print(\"Original message:\", sample_message)\n",
    "print(\"Encrypted message:\", encrypt_message(sample_message))"
   ]
  },
  {
   "cell_type": "code",
   "execution_count": null,
   "id": "a72b9d31-df44-4085-9e17-1c0a9c3a022f",
   "metadata": {},
   "outputs": [],
   "source": []
  }
 ],
 "metadata": {
  "kernelspec": {
   "display_name": "Python 3 (ipykernel)",
   "language": "python",
   "name": "python3"
  },
  "language_info": {
   "codemirror_mode": {
    "name": "ipython",
    "version": 3
   },
   "file_extension": ".py",
   "mimetype": "text/x-python",
   "name": "python",
   "nbconvert_exporter": "python",
   "pygments_lexer": "ipython3",
   "version": "3.10.8"
  }
 },
 "nbformat": 4,
 "nbformat_minor": 5
}
