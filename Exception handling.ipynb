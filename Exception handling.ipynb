{
 "cells": [
  {
   "cell_type": "markdown",
   "id": "df3726f4-eab5-4c74-9cdb-a1453ceb0a98",
   "metadata": {},
   "source": [
    "# Q-1"
   ]
  },
  {
   "cell_type": "markdown",
   "id": "6bded164-628b-481f-bfd3-35871c629e69",
   "metadata": {},
   "source": [
    "### An exception is an event, which occurs during the execution of a program that disrupts the normal flow of the program's instructions.\n",
    "### An error is an issue in a program that prevents the program from completing its task. In comparison, an exception is a condition that interrupts the normal flow of the program."
   ]
  },
  {
   "cell_type": "markdown",
   "id": "87e19e51-2576-4d94-a4f3-7aad4490c52c",
   "metadata": {},
   "source": [
    "# Q-2"
   ]
  },
  {
   "cell_type": "markdown",
   "id": "4185dacb-b9b6-415a-9ece-8c4d51276083",
   "metadata": {
    "tags": []
   },
   "source": [
    "### When an exception is not handled, the runtime system will abort the program (i.e. crash) and an exception message will print to the console"
   ]
  },
  {
   "cell_type": "code",
   "execution_count": 3,
   "id": "45ec21d2-86cf-4e65-97a8-98aa90c9e871",
   "metadata": {},
   "outputs": [
    {
     "ename": "ZeroDivisionError",
     "evalue": "division by zero",
     "output_type": "error",
     "traceback": [
      "\u001b[0;31m---------------------------------------------------------------------------\u001b[0m",
      "\u001b[0;31mZeroDivisionError\u001b[0m                         Traceback (most recent call last)",
      "Cell \u001b[0;32mIn[3], line 2\u001b[0m\n\u001b[1;32m      1\u001b[0m \u001b[38;5;66;03m##For example\u001b[39;00m\n\u001b[0;32m----> 2\u001b[0m \u001b[38;5;241;43m3\u001b[39;49m\u001b[38;5;241;43m/\u001b[39;49m\u001b[38;5;241;43m0\u001b[39;49m\n",
      "\u001b[0;31mZeroDivisionError\u001b[0m: division by zero"
     ]
    }
   ],
   "source": [
    "##For example\n",
    "3/0"
   ]
  },
  {
   "cell_type": "markdown",
   "id": "7e5d5806-e829-4333-911d-03bf9a26b67c",
   "metadata": {},
   "source": [
    "# Q-3"
   ]
  },
  {
   "cell_type": "markdown",
   "id": "b5508760-44bc-4868-ac48-1a8eb6e4944a",
   "metadata": {},
   "source": [
    "### try and except are used to catch and handle exceptions"
   ]
  },
  {
   "cell_type": "code",
   "execution_count": 4,
   "id": "b86ac0d1-1979-4b4b-8067-0e1a5c552cd8",
   "metadata": {},
   "outputs": [
    {
     "name": "stdout",
     "output_type": "stream",
     "text": [
      "There is some issue with my code\n"
     ]
    }
   ],
   "source": [
    "try:\n",
    "    f = open(\"test.txt\", 'r')\n",
    "except Exception as e:\n",
    "    print(\"There is some issue with my code\")"
   ]
  },
  {
   "cell_type": "markdown",
   "id": "bfb1aed1-f6a8-429b-9e82-9ae71447238f",
   "metadata": {},
   "source": [
    "# Q-4"
   ]
  },
  {
   "cell_type": "code",
   "execution_count": 5,
   "id": "071134eb-88a6-4d31-ad6b-a5622e383f72",
   "metadata": {},
   "outputs": [
    {
     "name": "stdout",
     "output_type": "stream",
     "text": [
      "Yeah ! Your answer is : 1\n",
      "This is always executed\n",
      "Sorry ! You are dividing by zero \n",
      "This is always executed\n"
     ]
    }
   ],
   "source": [
    "\n",
    "def divide(x, y):\n",
    "\ttry:\n",
    "\t\tresult = x // y\n",
    "\texcept ZeroDivisionError:\n",
    "\t\tprint(\"Sorry ! You are dividing by zero \")\n",
    "\telse:\n",
    "\t\tprint(\"Yeah ! Your answer is :\", result)\n",
    "\tfinally:\n",
    "\t\tprint('This is always executed')\n",
    "\n",
    "\n",
    "divide(3, 2)\n",
    "divide(3, 0)\n"
   ]
  },
  {
   "cell_type": "markdown",
   "id": "00161683-f3dc-4940-a271-6f21a836e604",
   "metadata": {},
   "source": [
    "# Q-5"
   ]
  },
  {
   "cell_type": "markdown",
   "id": "2a8b7e3a-9d41-47f1-99ef-48f7cc6d2843",
   "metadata": {},
   "source": [
    "### In Python, we can define custom exceptions by creating a new class that is derived from the built-in Exception class. we need custom exceptions because they can make your code much more readable and robust, and reduce the amount of code you write later to try and figure out what exactly went wrong."
   ]
  },
  {
   "cell_type": "code",
   "execution_count": 6,
   "id": "2c9f2ab0-c640-4b9f-b8c9-c3df1c9df106",
   "metadata": {},
   "outputs": [],
   "source": [
    "class validateage(Exception):\n",
    "    def __init__(self,msg):\n",
    "        self.msg = msg"
   ]
  },
  {
   "cell_type": "code",
   "execution_count": 7,
   "id": "aa0efa52-e813-4d7e-bb80-8ff82af4a042",
   "metadata": {},
   "outputs": [],
   "source": [
    "def validate_age(age):\n",
    "    if age<0:\n",
    "        raise validateage(\"Age should not be less than zero\")\n",
    "    elif age > 200:\n",
    "        raise validateage(\"Age is too high\")\n",
    "    else :\n",
    "        print(\"Age is valid\")"
   ]
  },
  {
   "cell_type": "markdown",
   "id": "31d951e6-594e-46c1-85aa-785cf2f31585",
   "metadata": {},
   "source": [
    "try:\n",
    "    age = int(input(\"Enter your age\"))\n",
    "    validate_age(age)\n",
    "except validateage as e:\n",
    "    print(e)"
   ]
  },
  {
   "cell_type": "markdown",
   "id": "09e71598-05b4-4922-a46a-7948ae896ef2",
   "metadata": {},
   "source": [
    "# Q-5"
   ]
  },
  {
   "cell_type": "markdown",
   "id": "89a9d883-f22a-4fb9-b06d-7b841893062a",
   "metadata": {},
   "source": [
    "### Answered in Q-4"
   ]
  },
  {
   "cell_type": "code",
   "execution_count": null,
   "id": "63983630-04fc-4c37-8e15-5e80a8dfb3b2",
   "metadata": {},
   "outputs": [],
   "source": []
  }
 ],
 "metadata": {
  "kernelspec": {
   "display_name": "Python 3 (ipykernel)",
   "language": "python",
   "name": "python3"
  },
  "language_info": {
   "codemirror_mode": {
    "name": "ipython",
    "version": 3
   },
   "file_extension": ".py",
   "mimetype": "text/x-python",
   "name": "python",
   "nbconvert_exporter": "python",
   "pygments_lexer": "ipython3",
   "version": "3.10.8"
  }
 },
 "nbformat": 4,
 "nbformat_minor": 5
}
