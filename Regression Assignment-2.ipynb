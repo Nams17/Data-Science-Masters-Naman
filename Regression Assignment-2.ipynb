{
 "cells": [
  {
   "cell_type": "markdown",
   "id": "e3ae921d-4552-4fbc-ac21-53bf20cc103d",
   "metadata": {},
   "source": [
    "# Q-1"
   ]
  },
  {
   "cell_type": "markdown",
   "id": "3d433ad5-8f41-45a0-bd08-9f55cc945821",
   "metadata": {},
   "source": [
    "### R-squared, also known as the coefficient of determination, is a statistical measure used to evaluate the goodness of fit of a linear regression model. It indicates the proportion of the variance in the dependent variable that can be explained by the independent variables in the model. In other words, R-squared quantifies how well the linear regression model captures the variability in the data.\n",
    "### R-squared is calculated as the ratio of the explained sum of squares (ESS) to the total sum of squares (TSS). It ranges from 0 to 1, with a higher value indicating a better fit of the model to the data.\n",
    "### Mathematically, R-squared is calculated as:\n",
    "\n",
    "R-squared = 1 - (RSS / TSS)\n",
    "\n",
    "### Interpreting R-squared:\n",
    "- R-squared of 1: It indicates that the linear regression model explains all the variability in the dependent variable. In this case, all data points fall perfectly on the regression line.\n",
    "- R-squared close to 1: It indicates that the model captures a large proportion of the variability in the dependent variable. The predictions by the model align closely with the actual values.\n",
    "- R-squared close to 0: It indicates that the model does not explain much of the variability in the dependent variable. The predictions by the model do not align well with the actual values.\n",
    "- R-squared negative: It indicates that the model performs worse than simply using the mean value of the dependent variable as the prediction. The model is not capturing any meaningful relationship."
   ]
  },
  {
   "cell_type": "markdown",
   "id": "c073f1f9-a190-4f32-a241-19caf6a0fa79",
   "metadata": {},
   "source": [
    "# Q-2"
   ]
  },
  {
   "cell_type": "markdown",
   "id": "52494b6f-931d-4e6c-a1fd-a6935551c525",
   "metadata": {},
   "source": [
    "### Adjusted R-squared is a modified version of the R-squared statistic that adjusts for the number of predictors in a regression model. While R-squared measures the proportion of the variance in the dependent variable explained by the independent variables, adjusted R-squared takes into account the number of predictors and penalizes the addition of irrelevant or redundant variables.\n",
    "### Adjusted R-squared is calculated using the following formula:\n",
    "\n",
    "Adjusted R-squared = 1 - [(1 - R-squared) * (n - 1) / (n - k - 1)]\n"
   ]
  },
  {
   "cell_type": "markdown",
   "id": "f7142fde-35df-4fcb-b62b-88bb79f5783e",
   "metadata": {},
   "source": [
    "### The key difference between R-squared and adjusted R-squared lies in how they handle the number of predictors. R-squared tends to increase as more predictors are added to the model, even if the additional predictors do not contribute meaningfully to explaining the dependent variable. This can lead to overfitting and an overly optimistic assessment of the model's performance.\n",
    "\n",
    "### In contrast, adjusted R-squared accounts for the number of predictors and adjusts for the degrees of freedom in the model. It penalizes the addition of unnecessary predictors and provides a more conservative estimate of the model's explanatory power. Adjusted R-squared will only increase if the additional predictor improves the model's fit more than would be expected by chance."
   ]
  },
  {
   "cell_type": "markdown",
   "id": "1f0e192c-71ae-4fd3-9a65-ef8e068f94ef",
   "metadata": {},
   "source": [
    "# Q-3"
   ]
  },
  {
   "cell_type": "markdown",
   "id": "2c72f089-47bb-41f9-b1d1-e7a824f1bbaf",
   "metadata": {},
   "source": [
    "### Adjusted R-squared is more appropriate to use when comparing regression models with different numbers of predictors. It addresses the issue of overfitting by penalizing the inclusion of unnecessary predictors, providing a more conservative estimate of the model's explanatory power.\n",
    "### "
   ]
  },
  {
   "cell_type": "markdown",
   "id": "e1f20741-9554-41cb-82ec-72fb9d6b39d8",
   "metadata": {},
   "source": [
    "# Q-4"
   ]
  },
  {
   "cell_type": "markdown",
   "id": "829c15df-5d5b-4b7d-bd88-801f3b39e981",
   "metadata": {},
   "source": [
    "### RMSE (Root Mean Squared Error), MSE (Mean Squared Error), and MAE (Mean Absolute Error) are commonly used metrics in regression analysis to evaluate the performance of a regression model.\n",
    "### MSE represents the average of the squared differences between the predicted values and the actual values. It is calculated by taking the average of the squared residuals (the differences between predicted and actual values) and provides a measure of the overall model fit. The formula for MSE is:\n",
    "\n",
    "MSE = (1/n) * Σ(yᵢ - ȳ)²\n",
    "\n",
    "where yᵢ is the observed value, ȳ is the mean of the observed values, and n is the number of observations.\n",
    "### RMSE is the square root of MSE and is a popular choice as it has the same unit of measurement as the dependent variable. It represents the standard deviation of the residuals, indicating the average magnitude of the prediction errors. The formula for RMSE is:\n",
    "\n",
    "RMSE = √(MSE)\n",
    "\n",
    "### MAE represents the average of the absolute differences between the predicted values and the actual values. It is calculated by taking the average of the absolute residuals, ignoring the direction of the errors. MAE is useful when you want to understand the average magnitude of the prediction errors without considering their direction. The formula for MAE is:\n",
    "MAE = (1/n) * Σ|yᵢ - ŷ|\n",
    "\n",
    "where yᵢ is the observed value and ŷ is the predicted value.\n",
    "\n",
    "### "
   ]
  },
  {
   "cell_type": "markdown",
   "id": "72ecc6ad-a9ea-4686-98ce-9178482faa81",
   "metadata": {},
   "source": [
    "# Q-5"
   ]
  },
  {
   "cell_type": "markdown",
   "id": "3898049a-81d7-40b4-8f1c-826239afcbdb",
   "metadata": {},
   "source": [
    "### Advantages of RMSE, MSE, and MAE as evaluation metrics in regression analysis:\n",
    "- Easy interpretation: RMSE, MSE, and MAE are straightforward metrics that provide a clear measure of the prediction accuracy in the same units as the dependent variable. This makes it easy to interpret and compare the performance of different models.\n",
    "- Sensitivity to outliers: RMSE, MSE, and MAE give equal weight to all errors, including outliers. This can be advantageous when outliers have a significant impact on the overall model performance and need to be appropriately penalized.\n",
    "- Robustness to non-normality: RMSE, MSE, and MAE do not rely on the assumption of normality in the errors. They are robust metrics that can be used in situations where the error distribution deviates from normality.\n",
    "### Disadvantages of RMSE, MSE, and MAE as evaluation metrics in regression analysis:\n",
    "- Lack of context: RMSE, MSE, and MAE do not provide information about the practical significance of the prediction errors. They do not indicate whether the errors are large or small in relation to the problem's context or whether they have any real-world implications.\n",
    "- Focus on overall error: RMSE, MSE, and MAE consider the overall error across all observations but do not provide insights into the pattern of errors. They do not capture potential heteroscedasticity or systematic biases in the model.\n",
    "- Sensitivity to scale: RMSE and MSE are sensitive to the scale of the dependent variable since they involve squaring the errors. This means that models with larger values in the dependent variable may have higher RMSE or MSE compared to models with smaller values, even if their prediction accuracy is similar."
   ]
  },
  {
   "cell_type": "markdown",
   "id": "2d4b6cb8-2224-4323-9db3-260b0d4f02f8",
   "metadata": {},
   "source": [
    "# Q-6"
   ]
  },
  {
   "cell_type": "markdown",
   "id": "cada46ab-3e1b-45a9-8105-80953acf951b",
   "metadata": {},
   "source": [
    "### Lasso regularization, also known as L1 regularization, is a technique used in regression analysis to introduce a penalty on the absolute value of the coefficients. It adds a term to the objective function of the regression model, which consists of the sum of the absolute values of the coefficients multiplied by a regularization parameter (lambda) that controls the strength of the penalty.\n",
    "### Lasso regularization differs from Ridge regularization (L2 regularization) in the type of penalty applied to the coefficients. While Lasso regularization penalizes the absolute values of the coefficients, Ridge regularization penalizes the squared values of the coefficients.\n",
    "### Lasso regularization is more appropriate to use when there is a need for feature selection or when the data contains a large number of features, some of which may be irrelevant or redundant. By setting some coefficients to zero, Lasso can simplify the model and improve interpretability by focusing on the most relevant features. It is particularly useful when dealing with high-dimensional datasets, where there are more features than observations.\n",
    "### However, if all the features in the dataset are considered important and there is no need for explicit feature selection, Ridge regularization may be more appropriate. Ridge regularization can be beneficial when dealing with multicollinearity among the features, as it can help reduce the impact of collinear variables by shrinking their coefficients."
   ]
  },
  {
   "cell_type": "markdown",
   "id": "32398a8f-5db6-4f1c-a8f6-5842f7755134",
   "metadata": {},
   "source": [
    "# Q-7"
   ]
  },
  {
   "cell_type": "markdown",
   "id": "95f1838a-3cd1-4aa4-867c-6d5f1a1cb169",
   "metadata": {},
   "source": [
    "### Regularized linear models help prevent overfitting in machine learning by introducing a penalty term to the loss function, which discourages the model from fitting the training data too closely. This penalty term controls the complexity of the model by limiting the magnitude of the coefficients.\n",
    "### By adding a regularization term, the model is encouraged to find a balance between minimizing the training error and keeping the coefficients small. This regularization constraint helps prevent the model from becoming overly complex and overly sensitive to the training data, thus reducing the risk of overfitting.\n",
    "### Let's take an example of regularized linear regression, specifically Ridge regression, to illustrate how it helps prevent overfitting. Suppose we have a dataset with one input feature, \"x\", and the corresponding target variable, \"y\". We want to fit a linear regression model to predict \"y\" based on \"x\".\n",
    "### Without regularization, the linear regression model may try to fit the training data too closely, capturing noise and outliers in the process. This can lead to overfitting, where the model performs well on the training data but fails to generalize to unseen data.\n",
    "### By applying Ridge regularization, we add a penalty term to the loss function, which is proportional to the sum of the squared coefficients. This penalty term discourages the model from having large coefficients and helps control the complexity of the model.\n",
    "### "
   ]
  },
  {
   "cell_type": "markdown",
   "id": "55fde858-d574-4d55-9ce8-00a485fa0666",
   "metadata": {},
   "source": [
    "# Q-8"
   ]
  },
  {
   "cell_type": "markdown",
   "id": "65fcdabb-50b4-47a5-8b66-3e9989bfcec7",
   "metadata": {},
   "source": [
    "### Regularized linear models have certain limitations that make them not always the best choice for regression analysis in all situations. Some of the limitations include:\n",
    "- Linear Assumption: Regularized linear models assume a linear relationship between the input features and the target variable. However, in real-world scenarios, the relationship may be non-linear. Using a linear model in such cases may result in underfitting and poor predictive performance.\n",
    "- Feature Interpretability: Regularized linear models tend to shrink the coefficients of less relevant features towards zero, effectively reducing their impact on the model. While this can be advantageous for feature selection and reducing model complexity, it may make it difficult to interpret the contribution of individual features to the target variable.\n",
    "- Sensitivity to Outliers: Regularized linear models can still be sensitive to outliers in the data, especially when using L1 regularization (Lasso). Outliers can disproportionately influence the model's coefficient estimates, potentially leading to biased predictions."
   ]
  },
  {
   "cell_type": "markdown",
   "id": "ccd68264-a92e-4351-ae99-2517bae2ab9e",
   "metadata": {},
   "source": [
    "# Q-9"
   ]
  },
  {
   "cell_type": "markdown",
   "id": "a5b7fb78-e5e0-45ad-9675-23dd650446c6",
   "metadata": {},
   "source": [
    "### If the goal is to penalize larger errors more heavily, then RMSE would be a suitable choice. Since RMSE includes the square of the errors, it places more emphasis on larger errors and may be more sensitive to outliers. In this case, Model A with an RMSE of 10 would indicate a higher average error compared to Model B's MAE of 8.\n",
    "### On the other hand, if the emphasis is on the average magnitude of the errors without consideration for their squared values, then MAE would be a suitable choice. MAE represents the average absolute difference between predicted and actual values, providing a measure of the average error magnitude. In this case, Model B with an MAE of 8 would indicate a lower average error compared to Model A's RMSE of 10.\n",
    "### On the other hand, if the emphasis is on the average magnitude of the errors without consideration for their squared values, then MAE would be a suitable choice. MAE represents the average absolute difference between predicted and actual values, providing a measure of the average error magnitude. In this case, Model B with an MAE of 8 would indicate a lower average error compared to Model A's RMSE of 10."
   ]
  },
  {
   "cell_type": "markdown",
   "id": "f3d3ddd5-6900-4522-b91f-e7281bd72442",
   "metadata": {},
   "source": [
    "# Q-10"
   ]
  },
  {
   "cell_type": "markdown",
   "id": "e04a29e3-1236-4f7c-83db-fc375b66c86b",
   "metadata": {},
   "source": [
    "### "
   ]
  }
 ],
 "metadata": {
  "kernelspec": {
   "display_name": "Python 3 (ipykernel)",
   "language": "python",
   "name": "python3"
  },
  "language_info": {
   "codemirror_mode": {
    "name": "ipython",
    "version": 3
   },
   "file_extension": ".py",
   "mimetype": "text/x-python",
   "name": "python",
   "nbconvert_exporter": "python",
   "pygments_lexer": "ipython3",
   "version": "3.10.8"
  }
 },
 "nbformat": 4,
 "nbformat_minor": 5
}
