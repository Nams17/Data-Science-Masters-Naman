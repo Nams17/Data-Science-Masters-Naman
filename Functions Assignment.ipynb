{
 "cells": [
  {
   "cell_type": "markdown",
   "id": "de343773-b8d4-4f75-b2fc-f786587f00ad",
   "metadata": {},
   "source": [
    "# Q-1"
   ]
  },
  {
   "cell_type": "markdown",
   "id": "9b959404-2b1a-4260-98d7-6c9706c82345",
   "metadata": {},
   "source": [
    "## def keyword is used to create a function"
   ]
  },
  {
   "cell_type": "code",
   "execution_count": 1,
   "id": "f4a3e5a4-dfda-42a5-8c6e-c25b6ec465de",
   "metadata": {},
   "outputs": [],
   "source": [
    "def odd_list():\n",
    "    for i in range(1,25):\n",
    "        if i%2!=0:\n",
    "            print(i)\n",
    "        "
   ]
  },
  {
   "cell_type": "code",
   "execution_count": 2,
   "id": "00eeaeea-afc6-4ebd-8b0d-bcd8e812f53b",
   "metadata": {},
   "outputs": [
    {
     "name": "stdout",
     "output_type": "stream",
     "text": [
      "1\n",
      "3\n",
      "5\n",
      "7\n",
      "9\n",
      "11\n",
      "13\n",
      "15\n",
      "17\n",
      "19\n",
      "21\n",
      "23\n"
     ]
    }
   ],
   "source": [
    "odd_list()"
   ]
  },
  {
   "cell_type": "markdown",
   "id": "71f9b71e-d8c4-4f9b-b32c-bed36de57a6d",
   "metadata": {},
   "source": [
    "# Q-2"
   ]
  },
  {
   "cell_type": "markdown",
   "id": "c315ee59-b388-492c-835f-fad0e1bd8354",
   "metadata": {},
   "source": [
    "## *args and **kwargs are used in some functions when we are unsure about the number of arguments to pass in the functions."
   ]
  },
  {
   "cell_type": "code",
   "execution_count": 6,
   "id": "23a173bc-c2c1-4ceb-9caa-f3f71fbb70b8",
   "metadata": {},
   "outputs": [
    {
     "name": "stdout",
     "output_type": "stream",
     "text": [
      "Hello\n",
      "Welcome\n",
      "to\n",
      "India\n"
     ]
    }
   ],
   "source": [
    "def arg_Fun(*args):\n",
    "\tfor i in args:\n",
    "\t\tprint(i)\n",
    "\n",
    "\n",
    "myFun('Hello', 'Welcome', 'to', 'India')\n"
   ]
  },
  {
   "cell_type": "code",
   "execution_count": 9,
   "id": "2cb1eb1a-1592-4315-97ac-a9f606f0c255",
   "metadata": {},
   "outputs": [
    {
     "name": "stdout",
     "output_type": "stream",
     "text": [
      "first == I\n",
      "mid == am\n",
      "last == Groot\n"
     ]
    }
   ],
   "source": [
    "def kwargs_Fun(**kwargs):\n",
    "\tfor key, value in kwargs.items():\n",
    "\t\tprint(\"%s == %s\" % (key, value))\n",
    "\n",
    "\n",
    "# Driver code\n",
    "kwargs_Fun(first='I', mid='am', last='Groot')\n"
   ]
  },
  {
   "cell_type": "markdown",
   "id": "fa26573b-1434-4145-96d4-f7b9b293c289",
   "metadata": {},
   "source": [
    "# Q-3"
   ]
  },
  {
   "cell_type": "markdown",
   "id": "6d0a1d08-e666-4eeb-8e53-e7664797f6f7",
   "metadata": {},
   "source": [
    "## Iterator is an object that contains a countable number of values"
   ]
  },
  {
   "cell_type": "markdown",
   "id": "d2fe9ef0-c16d-4952-a52d-025238dd85a0",
   "metadata": {},
   "source": [
    "## The iterator object is initialized using the iter() method. It uses the next() method for iteration."
   ]
  },
  {
   "cell_type": "code",
   "execution_count": 10,
   "id": "1b8b9fe8-788e-42de-b4ac-98b2af9594e7",
   "metadata": {},
   "outputs": [],
   "source": [
    "list1 = [2,4,6,8,10,12,14,16,18,20]"
   ]
  },
  {
   "cell_type": "code",
   "execution_count": 11,
   "id": "b2837dea-798b-4554-8559-f7c904e956df",
   "metadata": {},
   "outputs": [
    {
     "name": "stdout",
     "output_type": "stream",
     "text": [
      "[2, 4, 6, 8, 10]\n"
     ]
    }
   ],
   "source": [
    "print(list1[0:5])"
   ]
  },
  {
   "cell_type": "markdown",
   "id": "5d32b32e-cc76-48d5-8fa5-f903eed510ed",
   "metadata": {},
   "source": [
    "# Q-4"
   ]
  },
  {
   "cell_type": "markdown",
   "id": "304c9092-3aeb-4509-9697-8cd8dde5a9d5",
   "metadata": {},
   "source": [
    "## A generator is a function that returns an iterator that produces a sequence of values when iterated over"
   ]
  },
  {
   "cell_type": "markdown",
   "id": "9d911ec7-f107-4949-8736-fb705f26084a",
   "metadata": {},
   "source": [
    "## Yield keyword is used to create a generator function"
   ]
  },
  {
   "cell_type": "code",
   "execution_count": 14,
   "id": "f6f58b0a-d5a2-4fd4-8baa-15d62aec5ac3",
   "metadata": {},
   "outputs": [
    {
     "name": "stdout",
     "output_type": "stream",
     "text": [
      "0\n",
      "2\n",
      "4\n",
      "6\n",
      "8\n"
     ]
    }
   ],
   "source": [
    "def simple():  \n",
    "    for i in range(10):  \n",
    "        if(i%2==0):  \n",
    "            yield i  \n",
    "  \n",
    "  \n",
    "for i in simple():  \n",
    "    print(i)  "
   ]
  },
  {
   "cell_type": "code",
   "execution_count": 15,
   "id": "d303710f-7dc5-4d9c-9bea-aba3faa9205b",
   "metadata": {},
   "outputs": [],
   "source": [
    "def gen_fun():\n",
    "    for i in range(0,1000):\n",
    "        isPrime = True\n",
    "    for num in range(2, i):\n",
    "        if i % num == 0:\n",
    "            isPrime = False\n",
    "      \n",
    "    if isPrime:\n",
    "        gen_Fun.append(i)"
   ]
  },
  {
   "cell_type": "code",
   "execution_count": 16,
   "id": "e22a7844-db3e-46a4-b759-3238740f1483",
   "metadata": {},
   "outputs": [],
   "source": [
    "gen_fun()"
   ]
  },
  {
   "cell_type": "code",
   "execution_count": 5,
   "id": "c90990ee-fd8b-496e-af37-297a0e3e76ca",
   "metadata": {},
   "outputs": [],
   "source": [
    "def getPrimes(n):\n",
    "    i = 2\n",
    "    while i < n :\n",
    "        prime = True # reset the `prime` variable before the inner loop\n",
    "        for a in xrange(2, i):\n",
    "            if i%a == 0:\n",
    "                prime = False\n",
    "                break\n",
    "        if prime:    \n",
    "            yield i\n",
    "        i += 1 # don't forget to advance `i`"
   ]
  },
  {
   "cell_type": "code",
   "execution_count": 6,
   "id": "5cbfec69-5ddc-4266-a9bf-4371ba197e53",
   "metadata": {},
   "outputs": [
    {
     "data": {
      "text/plain": [
       "<generator object getPrimes at 0x7f46ac197140>"
      ]
     },
     "execution_count": 6,
     "metadata": {},
     "output_type": "execute_result"
    }
   ],
   "source": [
    "getPrimes(1000)"
   ]
  },
  {
   "cell_type": "code",
   "execution_count": null,
   "id": "f3da915d-7569-4fe8-87ac-12c6cf6285c7",
   "metadata": {},
   "outputs": [],
   "source": []
  }
 ],
 "metadata": {
  "kernelspec": {
   "display_name": "Python 3 (ipykernel)",
   "language": "python",
   "name": "python3"
  },
  "language_info": {
   "codemirror_mode": {
    "name": "ipython",
    "version": 3
   },
   "file_extension": ".py",
   "mimetype": "text/x-python",
   "name": "python",
   "nbconvert_exporter": "python",
   "pygments_lexer": "ipython3",
   "version": "3.10.8"
  }
 },
 "nbformat": 4,
 "nbformat_minor": 5
}
