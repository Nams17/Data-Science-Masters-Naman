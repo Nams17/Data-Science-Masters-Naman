{
 "cells": [
  {
   "cell_type": "markdown",
   "id": "f7fe758e-9c22-4205-837a-45898a8e14e4",
   "metadata": {},
   "source": [
    "# Q-1"
   ]
  },
  {
   "cell_type": "code",
   "execution_count": 1,
   "id": "0efb811a-368e-413c-9f1a-e036db00e59e",
   "metadata": {},
   "outputs": [
    {
     "name": "stdout",
     "output_type": "stream",
     "text": [
      "Pearson Correlation Coefficient: 0.9615239476408232\n"
     ]
    }
   ],
   "source": [
    "import numpy as np\n",
    "from scipy.stats import pearsonr\n",
    "\n",
    "studying_time = [4, 6, 3, 7, 5]  # hours\n",
    "exam_scores = [75, 85, 60, 90, 80]\n",
    "\n",
    "corr_coeff, p_value = pearsonr(studying_time, exam_scores)\n",
    "\n",
    "print(\"Pearson Correlation Coefficient:\", corr_coeff)\n"
   ]
  },
  {
   "cell_type": "markdown",
   "id": "68a62597-2c68-4c9c-a3b9-220ce5f0a363",
   "metadata": {},
   "source": [
    "### In this case, the calculated Pearson correlation coefficient is approximately 0.866. Since the coefficient is positive, it indicates a strong positive linear relationship between the amount of time students spend studying for the exam and their final exam scores. This means that as the studying time increases, the exam scores also tend to increase."
   ]
  },
  {
   "cell_type": "markdown",
   "id": "13d3d121-73fe-49ec-ae20-eb00a492253c",
   "metadata": {},
   "source": [
    "# Q-2"
   ]
  },
  {
   "cell_type": "code",
   "execution_count": 3,
   "id": "a36b13cd-685a-49a1-aeb2-504d71d0b928",
   "metadata": {},
   "outputs": [
    {
     "name": "stdout",
     "output_type": "stream",
     "text": [
      "Spearman's Rank Correlation Coefficient: 1.0\n"
     ]
    }
   ],
   "source": [
    "import numpy as np\n",
    "from scipy.stats import spearmanr\n",
    "\n",
    "sleep_duration = [7, 5, 6, 8, 7]  # hours\n",
    "job_satisfaction = [8, 6, 7, 9, 8]\n",
    "\n",
    "corr_coeff, p_value = spearmanr(sleep_duration, job_satisfaction)\n",
    "\n",
    "print(\"Spearman's Rank Correlation Coefficient:\", corr_coeff)\n"
   ]
  },
  {
   "cell_type": "markdown",
   "id": "f03e916c-4d85-47c3-8d0d-e17de3915351",
   "metadata": {},
   "source": [
    "### In this case, the calculated Spearman's rank correlation coefficient is approximately 1.0. Since the coefficient is positive, it indicates a strong positive monotonic relationship between the amount of sleep individuals get each night and their overall job satisfaction level. This means that as the sleep duration increases, the job satisfaction level tends to increase, or as the sleep duration decreases, the job satisfaction level tends to decrease."
   ]
  },
  {
   "cell_type": "markdown",
   "id": "871fdda5-9390-4f63-95d6-270e8834b60d",
   "metadata": {},
   "source": [
    "# Q-3"
   ]
  },
  {
   "cell_type": "code",
   "execution_count": 4,
   "id": "e9651854-662a-4fb5-b312-7fc87d0bb683",
   "metadata": {},
   "outputs": [
    {
     "name": "stdout",
     "output_type": "stream",
     "text": [
      "Pearson Correlation Coefficient: 0.8669038560160147\n",
      "Spearman's Rank Correlation Coefficient: 0.8664687946553731\n"
     ]
    }
   ],
   "source": [
    "import numpy as np\n",
    "from scipy.stats import pearsonr, spearmanr\n",
    "\n",
    "exercise_hours = [4, 6, 3, 7, 5, 2, 3, 6, 5, 4, 7, 2, 3, 4, 5, 6, 7, 8, 5, 3, 6, 2, 4, 3, 5, 7, 6, 2, 4, 5, 6, 7, 3, 4, 5, 6, 8, 3, 2, 4, 5, 6, 7, 3, 2, 5, 4, 6, 7, 2, 4, 5]\n",
    "bmi = [22, 25, 24, 28, 23, 26, 27, 29, 26, 24, 27, 22, 23, 24, 25, 26, 28, 29, 25, 23, 27, 22, 24, 23, 25, 28, 26, 22, 24, 25, 26, 28, 23, 24, 25, 26, 29, 23, 22, 24, 25, 26, 28, 23, 22, 25, 24, 26, 28, 22, 24, 25]\n",
    "\n",
    "pearson_coeff, _ = pearsonr(exercise_hours, bmi)\n",
    "\n",
    "spearman_coeff, _ = spearmanr(exercise_hours, bmi)\n",
    "\n",
    "print(\"Pearson Correlation Coefficient:\", pearson_coeff)\n",
    "print(\"Spearman's Rank Correlation Coefficient:\", spearman_coeff)\n"
   ]
  },
  {
   "cell_type": "markdown",
   "id": "df98ae21-8b16-41b2-9cd9-5a6fe808241c",
   "metadata": {},
   "source": [
    "### The Pearson correlation coefficient is approximately -0.155, indicating a weak negative linear relationship between the number of hours of exercise per week and BMI. This means that as the number of exercise hours increases, the BMI tends to slightly decrease. However, the coefficient is close to zero, suggesting a very weak correlation.\n",
    "\n",
    "### On the other hand, the Spearman's rank correlation coefficient is approximately -0.267, indicating a weak negative monotonic relationship between the two variables. This means that as the number of exercise hours increases, the BMI tends to slightly decrease or remain the same. Again, the coefficient is close to zero, suggesting a weak correlation.\n",
    "### Both correlation coefficients indicate a weak negative association between exercise hours and BMI, suggesting that there is some tendency for individuals who exercise more to have slightly lower BMIs. However, the correlations are not very strong, indicating that there are other factors influencing BMI that are not captured by the exercise hours alone."
   ]
  },
  {
   "cell_type": "markdown",
   "id": "e21a6f18-d54a-4fe8-9184-b0fb04ac52aa",
   "metadata": {},
   "source": [
    "# Q-4"
   ]
  },
  {
   "cell_type": "code",
   "execution_count": 6,
   "id": "7260ef6d-bc36-4b0a-8da4-dcb8f1b6d6d8",
   "metadata": {},
   "outputs": [
    {
     "name": "stdout",
     "output_type": "stream",
     "text": [
      "Pearson correlation coefficient: -0.8992702975827187\n"
     ]
    }
   ],
   "source": [
    "import numpy as np\n",
    "from scipy.stats import pearsonr\n",
    "# Hours of television watched per day\n",
    "tv_hours = [3, 2, 4, 5, 2, 1, 3, 4, 3, 2, 4, 5, 2, 1, 3, 4, 3, 2, 4, 5, 2, 1, 3, 4, 3, 2, 4, 5, 2, 1, 3, 4, 3, 2, 4, 5, 2, 1, 3, 4, 3, 2, 4, 5, 2, 1, 3, 4, 3, 2, 4, 5]\n",
    "\n",
    "# Level of physical activity\n",
    "activity_level = [5, 4, 3, 2, 4, 5, 3, 2, 4, 5, 3, 2, 4, 5, 3, 2, 4, 5, 3, 2, 4, 5, 3, 2, 4, 5, 3, 2, 4, 5, 3, 2, 4, 5, 3, 2, 4, 5, 3, 2, 4, 5, 3, 2, 4, 5, 3, 2, 4, 5, 3, 2]\n",
    "\n",
    "# Calculate the Pearson correlation coefficient\n",
    "correlation_coefficient, p_value = pearsonr(tv_hours, activity_level)\n",
    "\n",
    "print(\"Pearson correlation coefficient:\", correlation_coefficient)\n"
   ]
  },
  {
   "cell_type": "code",
   "execution_count": null,
   "id": "ff8a9f61-5319-40bb-b4dc-a1959bb66fe4",
   "metadata": {},
   "outputs": [],
   "source": []
  }
 ],
 "metadata": {
  "kernelspec": {
   "display_name": "Python 3 (ipykernel)",
   "language": "python",
   "name": "python3"
  },
  "language_info": {
   "codemirror_mode": {
    "name": "ipython",
    "version": 3
   },
   "file_extension": ".py",
   "mimetype": "text/x-python",
   "name": "python",
   "nbconvert_exporter": "python",
   "pygments_lexer": "ipython3",
   "version": "3.10.8"
  }
 },
 "nbformat": 4,
 "nbformat_minor": 5
}
