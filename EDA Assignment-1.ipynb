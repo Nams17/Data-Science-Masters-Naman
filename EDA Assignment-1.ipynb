{
 "cells": [
  {
   "cell_type": "markdown",
   "id": "3c933848-200b-4b0c-936f-2aa4c6ecf7c1",
   "metadata": {},
   "source": [
    "# Q-1"
   ]
  },
  {
   "cell_type": "markdown",
   "id": "1c6a81cb-d12b-4b0a-9a71-4b4542d2ddc3",
   "metadata": {},
   "source": [
    "### Fixed Acidity: This feature represents the concentration of non-volatile acids in the wine. It plays a role in determining the perceived acidity and can contribute to the overall taste and balance of the wine.\n",
    "### Volatile Acidity: This feature measures the amount of volatile acids present in the wine. Excessive volatile acidity can lead to an unpleasant vinegar-like taste, negatively impacting the wine's quality.\n",
    "### Citric Acid: Citric acid is a natural acid found in fruits, and its presence in wine can contribute to freshness and enhance the flavor profile.\n",
    "### Residual Sugar: This feature indicates the amount of sugar remaining in the wine after fermentation. It affects the wine's sweetness and can influence the overall perception of balance and taste.\n",
    "### Chlorides: Chloride ions in wine can come from various sources, including grape cultivation practices and winemaking processes. They can affect the wine's taste and salinity, and excessive chloride levels can be undesirable.\n",
    "### Free Sulfur Dioxide: This feature represents the amount of free sulfur dioxide in the wine. Sulfur dioxide is used as a preservative in winemaking and helps to prevent oxidation and microbial spoilage.\n",
    "### Total Sulfur Dioxide: This feature indicates the total amount of both free and bound sulfur dioxide in the wine. It provides insights into the overall sulfur dioxide levels, which can impact the wine's stability and preservation.\n",
    "### Density: The density of wine is influenced by factors such as sugar content, alcohol content, and temperature. It provides information about the wine's body and can contribute to its perceived richness.\n",
    "### pH: pH is a measure of the acidity or basicity of the wine. It affects the wine's taste, stability, and microbial growth. A balanced pH is important for wine quality.\n",
    "### Sulphates: Sulphates, or sulfites, are compounds that are naturally present in wine or added as a preservative. They help prevent oxidation and microbial spoilage, and their concentration can influence the wine's aroma and flavor.\n",
    "### Alcohol: Alcohol content is an important characteristic that contributes to the wine's body, mouthfeel, and perceived warmth. It can significantly impact the overall sensory experience."
   ]
  },
  {
   "cell_type": "markdown",
   "id": "f19cfbc9-ef76-4aa8-9425-bf7ecb807870",
   "metadata": {},
   "source": [
    "# Q-2"
   ]
  },
  {
   "cell_type": "markdown",
   "id": "1c8b85a1-3ea3-4f00-a943-5de4b5c202cd",
   "metadata": {},
   "source": [
    "### The missing data was handled using Mean/Median Imputation and Mode Imputation.\n",
    "### Advantages of imputation techniques:\n",
    "\n",
    "- Preserve the sample size and avoid loss of information.\n",
    "- Maintain the overall distribution of the variable.\n",
    "- Allow for further analysis and modeling.\n",
    "### Disadvantages of imputation techniques:\n",
    "\n",
    "- Imputed values may introduce bias or distort relationships.\n",
    "- Assumptions made during imputation may not hold true in the data.\n",
    "- Imputation may not fully capture the uncertainty associated with missing values."
   ]
  },
  {
   "cell_type": "markdown",
   "id": "190c92fa-dbac-45e3-b565-24a41ff4f83f",
   "metadata": {},
   "source": [
    "# Q-3"
   ]
  },
  {
   "cell_type": "markdown",
   "id": "2a34043f-2762-468d-99d7-406e106a81cd",
   "metadata": {},
   "source": [
    "### The key factors that affect the students performance are Lunch, Parental_level_of_education, race_ethnicity."
   ]
  },
  {
   "cell_type": "markdown",
   "id": "ad0b72f1-af2f-4ccf-ae5c-e595e7481ed3",
   "metadata": {},
   "source": [
    "### Descriptive Statistics: Compute descriptive statistics such as mean, median, standard deviation, and range for relevant variables. This provides an overview of the data distribution and helps identify any outliers or unusual patterns.\n",
    "### Data Visualization: Create visualizations such as histograms, box plots, scatter plots, or correlation matrices to gain insights into the relationships between variables. Plotting variables against the target variable (exam scores) can help identify potential factors affecting performance.\n",
    "### Correlation Analysis: Calculate the correlation coefficients (e.g., Pearson correlation) between the target variable (exam scores) and other relevant variables. This helps identify the strength and direction of relationships between variables. Focus on variables with significant correlations as potential key factors.\n",
    "### By following these steps, you can gain insights into the key factors affecting students' performance in exams and understand the statistical relationships between these factors and exam scores."
   ]
  },
  {
   "cell_type": "markdown",
   "id": "3b997e7e-86ef-455b-bf7e-9a887e3586a9",
   "metadata": {},
   "source": [
    "# Q-4"
   ]
  },
  {
   "cell_type": "markdown",
   "id": "5b548a7a-9f9f-4004-a8ae-4da884a85b22",
   "metadata": {},
   "source": [
    "### "
   ]
  }
 ],
 "metadata": {
  "kernelspec": {
   "display_name": "Python 3 (ipykernel)",
   "language": "python",
   "name": "python3"
  },
  "language_info": {
   "codemirror_mode": {
    "name": "ipython",
    "version": 3
   },
   "file_extension": ".py",
   "mimetype": "text/x-python",
   "name": "python",
   "nbconvert_exporter": "python",
   "pygments_lexer": "ipython3",
   "version": "3.10.8"
  }
 },
 "nbformat": 4,
 "nbformat_minor": 5
}
