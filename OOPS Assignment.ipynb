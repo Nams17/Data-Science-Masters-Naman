{
 "cells": [
  {
   "cell_type": "markdown",
   "id": "9a8e4e73-2d2c-44b9-a123-88e621537c1e",
   "metadata": {},
   "source": [
    "# Q-1"
   ]
  },
  {
   "cell_type": "markdown",
   "id": "0832f32f-b942-417c-98e2-f87af8cd7cb9",
   "metadata": {},
   "source": [
    "### A class is a user-defined blueprint or prototype from which objects are created.\n",
    "### An object is an instance of a class.\n",
    "### Car is a class and Vitara Brezza is an object."
   ]
  },
  {
   "cell_type": "markdown",
   "id": "8bbe3576-c8f0-4446-bcb8-dc8191c800b7",
   "metadata": {},
   "source": [
    "# Q-2"
   ]
  },
  {
   "cell_type": "markdown",
   "id": "97e09f6b-c1aa-4eec-bc5d-6090d704903a",
   "metadata": {},
   "source": [
    "### The four pillars of OOP are ABSTRACTION, ENCAPSULATION, POLYMORPHISM and INHERITANCE"
   ]
  },
  {
   "cell_type": "markdown",
   "id": "cc15ec11-0b88-40fe-b609-16b757a620ce",
   "metadata": {},
   "source": [
    "# Q-3"
   ]
  },
  {
   "cell_type": "markdown",
   "id": "2db0fafd-978f-4072-8fdc-90a8bd2c6bcc",
   "metadata": {},
   "source": [
    "### self is used to represent the instance of the class."
   ]
  },
  {
   "cell_type": "markdown",
   "id": "78a42743-6c9e-474c-84b7-da8c94b35353",
   "metadata": {},
   "source": [
    "# Q-4"
   ]
  },
  {
   "cell_type": "markdown",
   "id": "148b93e7-22cc-4955-b9a4-95a365be7dbb",
   "metadata": {},
   "source": [
    "### Inheritance allows us to define a class that inherits all the methods and properties from another class."
   ]
  },
  {
   "cell_type": "code",
   "execution_count": null,
   "id": "118d1b57-abb2-4a96-8cae-de2f76cd02b3",
   "metadata": {},
   "outputs": [],
   "source": []
  }
 ],
 "metadata": {
  "kernelspec": {
   "display_name": "Python 3 (ipykernel)",
   "language": "python",
   "name": "python3"
  },
  "language_info": {
   "codemirror_mode": {
    "name": "ipython",
    "version": 3
   },
   "file_extension": ".py",
   "mimetype": "text/x-python",
   "name": "python",
   "nbconvert_exporter": "python",
   "pygments_lexer": "ipython3",
   "version": "3.10.8"
  }
 },
 "nbformat": 4,
 "nbformat_minor": 5
}
